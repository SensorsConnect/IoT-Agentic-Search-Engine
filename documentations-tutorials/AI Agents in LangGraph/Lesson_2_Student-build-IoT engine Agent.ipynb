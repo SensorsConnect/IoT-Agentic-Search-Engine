{
 "cells": [
  {
   "cell_type": "markdown",
   "id": "21fa2e13-567d-4509-9023-c99fb230f31f",
   "metadata": {},
   "source": [
    "# Lesson 2 : LangGraph Components"
   ]
  },
  {
   "cell_type": "code",
   "execution_count": 1,
   "id": "f5762271-8736-4e94-9444-8c92bd0e8074",
   "metadata": {
    "height": 47
   },
   "outputs": [],
   "source": [
    "# from dotenv import load_dotenv\n",
    "# _ = load_dotenv()\n",
    "#llama3-groq-70b-8192-tool-use-preview\n",
    "import os\n",
    "from langchain_groq import ChatGroq\n",
    "import getpass\n",
    "# KnowledgeGraphTool\n",
    "import requests\n",
    "from langchain_groq import ChatGroq\n",
    "from langchain.prompts import ChatPromptTemplate\n",
    "from langchain.chains import LLMChain\n",
    "from langchain_core.tools import tool\n",
    "\n",
    "def _set_env(var: str):\n",
    "    if not os.environ.get(var):\n",
    "        os.environ[var] = getpass.getpass(f\"{var}: \")\n",
    "\n",
    "_set_env(\"LANGSMITH_API_KEY\")\n",
    "os.environ[\"LANGCHAIN_TRACING_V2\"] = \"true\"\n",
    "os.environ[\"LANGCHAIN_PROJECT\"] = \"LangGraph Tutorial\"\n",
    "# Load a specific environment variable\n",
    "GKGraph_API_KEY = os.environ.get('GKGraph_API_KEY')\n",
    "TAVILY_API_KEY=os.environ.get('TAVILY_API_KEY')\n",
    "# model = ChatGroq(model=\"llama3-8b-8192\")\n",
    "model = ChatGroq(model=\"llama3-groq-70b-8192-tool-use-preview\")"
   ]
  },
  {
   "cell_type": "code",
   "execution_count": 2,
   "id": "b4f2f36f",
   "metadata": {},
   "outputs": [],
   "source": [
    "# !pip install -U langgraph\n",
    "# !pip install langchain-community\n",
    "# !pip install pygraphviz #doesn't work with windows"
   ]
  },
  {
   "cell_type": "code",
   "execution_count": 3,
   "id": "d921beb0",
   "metadata": {},
   "outputs": [],
   "source": [
    "from langchain_core.tools import tool\n",
    "class KnowledgeGraphTool:\n",
    "    def __init__(self, api_key):\n",
    "        \"\"\"\n",
    "        Initializes the KnowledgeGraphTool with the provided API key.\n",
    "\n",
    "        Parameters:\n",
    "        api_key (str): The API key for accessing the Google Knowledge Graph API.\n",
    "        \"\"\"\n",
    "        self.api_key = api_key\n",
    "        self.base_url = \"https://kgsearch.googleapis.com/v1/entities:search\"\n",
    "\n",
    "    def search(self, query):\n",
    "        \"\"\"\n",
    "        Sends a search request to the Google Knowledge Graph API with the given query.\n",
    "\n",
    "        Parameters:\n",
    "        query (str): The user's query to search for in the Knowledge Graph.\n",
    "\n",
    "        Returns:\n",
    "        dict: The JSON response from the API if the request is successful.\n",
    "        \"\"\"\n",
    "        params = {\n",
    "            'query': query,\n",
    "            'key': self.api_key,\n",
    "            'limit': 1,\n",
    "            'indent': True\n",
    "        }\n",
    "        response = requests.get(self.base_url, params=params)\n",
    "        if response.status_code == 200:\n",
    "            return response.json()\n",
    "        else:\n",
    "            response.raise_for_status()\n",
    "\n",
    "    def extract_info(self, response):\n",
    "        \"\"\"\n",
    "        Extracts and returns the relevant information from the API response.\n",
    "\n",
    "        Parameters:\n",
    "        response (dict): The JSON response from the Knowledge Graph API.\n",
    "\n",
    "        Returns:\n",
    "        dict: A dictionary containing the name, description, and detailed description \n",
    "              from the response. Returns None if no relevant information is found.\n",
    "        \"\"\"\n",
    "        if 'itemListElement' in response and len(response['itemListElement']) > 0:\n",
    "            element = response['itemListElement'][0]['result']\n",
    "            name = element.get('name', 'N/A')\n",
    "            description = element.get('description', 'N/A')\n",
    "            detailed_description = element.get('detailedDescription', {}).get('articleBody', 'N/A')\n",
    "            return {\n",
    "                'name': name,\n",
    "                'description': description,\n",
    "                'detailed_description': detailed_description\n",
    "            }\n",
    "        else:\n",
    "            return None\n",
    "\n",
    "def main():\n",
    "    \"\"\"\n",
    "    The main function that handles user input, calls the search and extraction methods,\n",
    "    and prints the results.\n",
    "    \"\"\"\n",
    "    api_key = GKGraph_API_KEY\n",
    "    tool = KnowledgeGraphTool(api_key)\n",
    "    query = input(\"Enter your query: \")\n",
    "    response = tool.search(query)\n",
    "    info = tool.extract_info(response)\n",
    "    if info:\n",
    "        print(f\"Name: {info['name']}\")\n",
    "        print(f\"Description: {info['description']}\")\n",
    "        print(f\"Detailed Description: {info['detailed_description']}\")\n",
    "    else:\n",
    "        print(\"No information found.\")\n",
    "\n",
    "\n",
    "@tool\n",
    "def google_knowledge_graph(query: str) -> str:\n",
    "    \"\"\"This function call google knowledge graph API that provide answer \n",
    "    for some factual questions. The Knowledge Graph allows us to answer factual questions such as “How tall is the Eiffel Tower?”\n",
    "    or “Where were the 2016 Summer Olympics held.” \n",
    "    Our goal with the Knowledge Graph is for our systems to discover and surface publicly known, factual information when it’s determined to be useful.\n",
    "    Args:\n",
    "        query: the user prompt\n",
    "    \"\"\"\n",
    "    prompt = ChatPromptTemplate.from_template(\n",
    "    \"\"\"\n",
    "    Gevin this is the user question \"{query}\" \\\n",
    "    and this the answer \"{answer}\"\\\n",
    "    Act as a virual assistant and repsond like human providing the answer for the user\n",
    "    \"\"\")\n",
    "    llm = ChatGroq(model=\"llama3-groq-70b-8192-tool-use-preview\")\n",
    "    chain = LLMChain(llm=llm, prompt=prompt)\n",
    "    api_key = GKGraph_API_KEY\n",
    "    tool = KnowledgeGraphTool(api_key)\n",
    "#     query = input(\"Enter your query: \")\n",
    "    response = tool.search(query)\n",
    "    info = tool.extract_info(response)\n",
    "    if info:\n",
    "        print(f\"Name: {info['name']}\")\n",
    "        print(f\"Description: {info['description']}\")\n",
    "        print(f\"Detailed Description: {info['detailed_description']}\")\n",
    "        dictionary= {\n",
    "            \"name\": info['name'],\n",
    "            \"Description\":info['description'],\n",
    "            \"Detailed Description\" :info['detailed_description']\n",
    "        }\n",
    "#         return  chain.run(query=query, answer=str(dictionary))\n",
    "        return dictionary\n",
    "    else: \n",
    "#         print(\"No information found.\")\n",
    "#         return chain.run(query=query, answer=\"No information found.\")\n",
    "        return \"No information found.\"\n",
    "\n",
    "\n",
    "# if __name__ == \"__main__\":\n",
    "#     main()"
   ]
  },
  {
   "cell_type": "code",
   "execution_count": 4,
   "id": "d0168aee-bce9-4d60-b827-f86a88187e31",
   "metadata": {
    "height": 136
   },
   "outputs": [],
   "source": [
    "from langgraph.graph import StateGraph, END\n",
    "from typing import TypedDict, Annotated\n",
    "import operator\n",
    "from langchain_core.messages import AnyMessage, SystemMessage, HumanMessage, ToolMessage\n",
    "# from langchain_openai import ChatOpenAI\n",
    "from langchain_community.tools.tavily_search import TavilySearchResults"
   ]
  },
  {
   "cell_type": "code",
   "execution_count": 5,
   "id": "2589c5b6-6cc2-4594-9a17-dccdcf676054",
   "metadata": {
    "height": 64
   },
   "outputs": [
    {
     "name": "stdout",
     "output_type": "stream",
     "text": [
      "<class 'langchain_community.tools.tavily_search.tool.TavilySearchResults'>\n",
      "tavily_search_results_json\n"
     ]
    }
   ],
   "source": [
    "tool = TavilySearchResults(max_results=2) #increased number of results\n",
    "print(type(tool))\n",
    "print(tool.name)"
   ]
  },
  {
   "cell_type": "markdown",
   "id": "e196c186-af55-4f2d-b569-b7d63a859304",
   "metadata": {},
   "source": [
    "> If you are not familiar with python typing annotation, you can refer to the [python documents](https://docs.python.org/3/library/typing.html)."
   ]
  },
  {
   "cell_type": "code",
   "execution_count": 6,
   "id": "a2ba84ec-c172-4de7-ac55-e3158a531b23",
   "metadata": {
    "height": 47
   },
   "outputs": [],
   "source": [
    "class AgentState(TypedDict):\n",
    "    messages: Annotated[list[AnyMessage], operator.add]"
   ]
  },
  {
   "cell_type": "markdown",
   "id": "74c7ba73-e603-453b-b06f-5db92c567b19",
   "metadata": {},
   "source": [
    "> Note: in `take_action` below, some logic was added to cover the case that the LLM returned a non-existent tool name. Even with function calling, LLMs can still occasionally hallucinate. Note that all that is done is instructing the LLM to try again! An advantage of an agentic organization."
   ]
  },
  {
   "cell_type": "code",
   "execution_count": 7,
   "id": "876d5092-b8ef-4e38-b4d7-0e80c609bf7a",
   "metadata": {
    "height": 748
   },
   "outputs": [],
   "source": [
    "class Agent:\n",
    "\n",
    "    def __init__(self, model, tools, system=\"\"):\n",
    "        self.system = system\n",
    "        graph = StateGraph(AgentState)\n",
    "        graph.add_node(\"llm\", self.call_openai)\n",
    "        graph.add_node(\"action\", self.take_action)\n",
    "        graph.add_conditional_edges(\n",
    "            \"llm\",\n",
    "            self.exists_action,\n",
    "            {True: \"action\", False: END}\n",
    "        )\n",
    "        graph.add_edge(\"action\", \"llm\")\n",
    "        graph.set_entry_point(\"llm\")\n",
    "        self.graph = graph.compile()\n",
    "        self.tools = {t.name: t for t in tools}\n",
    "        self.model = model.bind_tools(tools)\n",
    "\n",
    "    def exists_action(self, state: AgentState):\n",
    "        result = state['messages'][-1]\n",
    "        return len(result.tool_calls) > 0\n",
    "\n",
    "    def call_openai(self, state: AgentState):\n",
    "        messages = state['messages']\n",
    "        if self.system:\n",
    "            messages = [SystemMessage(content=self.system)] + messages\n",
    "        message = self.model.invoke(messages)\n",
    "        return {'messages': [message]}\n",
    "\n",
    "    def take_action(self, state: AgentState):\n",
    "        tool_calls = state['messages'][-1].tool_calls\n",
    "        results = []\n",
    "        for t in tool_calls:\n",
    "            print(f\"Calling: {t}\")\n",
    "            if not t['name'] in self.tools:      # check for bad tool name from LLM\n",
    "                print(\"\\n ....bad tool name....\")\n",
    "                result = \"bad tool name, retry\"  # instruct LLM to retry if bad\n",
    "            else:\n",
    "                result = self.tools[t['name']].invoke(t['args'])\n",
    "            results.append(ToolMessage(tool_call_id=t['id'], name=t['name'], content=str(result)))\n",
    "        print(\"Back to the model!\")\n",
    "        return {'messages': results}"
   ]
  },
  {
   "cell_type": "code",
   "execution_count": 8,
   "id": "10084a02-2928-4945-9f7c-ad3f5b33caf7",
   "metadata": {
    "height": 170
   },
   "outputs": [],
   "source": [
    "# prompt = \"\"\"You are a smart research assistant. Use the search engine to look up information. \\\n",
    "# You are allowed to make multiple calls (either together or in sequence). \\\n",
    "# try to look up for information when you are sure of what you want. \\\n",
    "# If you need to look up some information before asking a follow up question, you are allowed to do that!\n",
    "# \"\"\"\n",
    "\n",
    "prompt = \"\"\"You are a smart research assistant. Use the search engine to look up information. \\\n",
    "You are allowed to make multiple calls (either together or in sequence). \\\n",
    "try to find information by your self first  if you find the answer return it to the user.\n",
    "then try  to use google_knowledge_graph tool if you find the answer return it to the user.\n",
    "then, try tavily_search_results_json tool if you find the answer return it to the user.\n",
    "if you find the answe using one if these tools, no need to use the other one\n",
    "If you need to look up some information before asking a follow up question, you are allowed to do that!\n",
    "\"\"\"\n",
    "\n",
    "# model = ChatOpenAI(model=\"gpt-3.5-turbo\")  #reduce inference cost\n",
    "abot = Agent(model, [google_knowledge_graph,tool], system=prompt)"
   ]
  },
  {
   "cell_type": "code",
   "execution_count": 9,
   "id": "a3d6f5f4-2392-41b9-ab96-7919840baa3e",
   "metadata": {
    "height": 64
   },
   "outputs": [
    {
     "data": {
      "image/jpeg": "[encoded data removed]",
      "text/plain": [
       "<IPython.core.display.Image object>"
      ]
     },
     "metadata": {},
     "output_type": "display_data"
    }
   ],
   "source": [
    "# from IPython.display import Image\n",
    "\n",
    "# Image(abot.graph.get_graph().draw_png())\n",
    "\n",
    "\n",
    "\n",
    "from IPython.display import Image, display\n",
    "\n",
    "try:\n",
    "    display(Image(abot.graph.get_graph().draw_mermaid_png()))\n",
    "except Exception:\n",
    "    # This requires some extra dependencies and is optional\n",
    "    pass"
   ]
  },
  {
   "cell_type": "code",
   "execution_count": 10,
   "id": "83588e70-254f-4f83-a510-c8ae81e729b0",
   "metadata": {
    "height": 47
   },
   "outputs": [],
   "source": [
    "messages = [HumanMessage(content=\"Hi\")]\n",
    "result = abot.graph.invoke({\"messages\": messages})"
   ]
  },
  {
   "cell_type": "code",
   "execution_count": 11,
   "id": "89a06a8c-fcd4-4ca6-98f0-36c5809813e6",
   "metadata": {
    "height": 30,
    "scrolled": true
   },
   "outputs": [
    {
     "data": {
      "text/plain": [
       "{'messages': [HumanMessage(content='Hi'),\n",
       "  AIMessage(content='Hello! How can I assist you today?', response_metadata={'token_usage': {'completion_tokens': 10, 'prompt_tokens': 514, 'total_tokens': 524, 'completion_time': 0.028470211, 'prompt_time': 0.038678099, 'queue_time': None, 'total_time': 0.06714831}, 'model_name': 'llama3-groq-70b-8192-tool-use-preview', 'system_fingerprint': 'fp_ee4b521143', 'finish_reason': 'stop', 'logprobs': None}, id='run-123c86eb-99e9-4b8a-aa6d-83398114c388-0', usage_metadata={'input_tokens': 514, 'output_tokens': 10, 'total_tokens': 524})]}"
      ]
     },
     "execution_count": 11,
     "metadata": {},
     "output_type": "execute_result"
    }
   ],
   "source": [
    "result"
   ]
  },
  {
   "cell_type": "code",
   "execution_count": 12,
   "id": "6cb3ef4c-58b3-401b-b104-0d51e553d982",
   "metadata": {
    "height": 30
   },
   "outputs": [
    {
     "data": {
      "text/plain": [
       "'Hello! How can I assist you today?'"
      ]
     },
     "execution_count": 12,
     "metadata": {},
     "output_type": "execute_result"
    }
   ],
   "source": [
    "result['messages'][-1].content"
   ]
  },
  {
   "cell_type": "code",
   "execution_count": 13,
   "id": "dc3293b7-a50c-43c8-a022-8975e1e444b8",
   "metadata": {
    "height": 47
   },
   "outputs": [],
   "source": [
    "messages = [HumanMessage(content=\"What is the weather in SF and LA?\")]\n",
    "result = abot.graph.invoke({\"messages\": messages})"
   ]
  },
  {
   "cell_type": "code",
   "execution_count": 14,
   "id": "0722c3d4-4cbf-43bf-81b0-50f634c4ce61",
   "metadata": {
    "height": 30
   },
   "outputs": [
    {
     "data": {
      "text/plain": [
       "\"I'm sorry but I do not have the capability to perform this task for you, I am happy to help you with any other queries you may have.\""
      ]
     },
     "execution_count": 14,
     "metadata": {},
     "output_type": "execute_result"
    }
   ],
   "source": [
    "result['messages'][-1].content"
   ]
  },
  {
   "cell_type": "code",
   "execution_count": 15,
   "id": "6b2f82fe-3ec4-4917-be51-9fb10d1317fa",
   "metadata": {
    "height": 204
   },
   "outputs": [
    {
     "name": "stdout",
     "output_type": "stream",
     "text": [
      "Calling: {'name': 'tavily_search_results_json', 'args': {'query': 'who won the super bowl in 2024'}, 'id': 'call_8xzd', 'type': 'tool_call'}\n",
      "Calling: {'name': 'tavily_search_results_json', 'args': {'query': 'headquarters location of the winning team'}, 'id': 'call_h0g5', 'type': 'tool_call'}\n",
      "Calling: {'name': 'tavily_search_results_json', 'args': {'query': \"GDP of the state where the winning team's headquarters is located\"}, 'id': 'call_tes7', 'type': 'tool_call'}\n",
      "Back to the model!\n"
     ]
    }
   ],
   "source": [
    "# Note, the query was modified to produce more consistent results. \n",
    "# Results may vary per run and over time as search information and models change.\n",
    "\n",
    "query = \"Who won the super bowl in 2024? In what state is the winning team headquarters located? \\\n",
    "What is the GDP of that state? Answer each question.\" \n",
    "messages = [HumanMessage(content=query)]\n",
    "\n",
    "# model = ChatOpenAI(model=\"gpt-4o\")  # requires more advanced model\n",
    "abot = Agent(model, [tool], system=prompt)\n",
    "result = abot.graph.invoke({\"messages\": messages})"
   ]
  },
  {
   "cell_type": "code",
   "execution_count": 16,
   "id": "ee0fe1c7-77e2-499c-a2f9-1f739bb6ddf0",
   "metadata": {
    "height": 30
   },
   "outputs": [
    {
     "name": "stdout",
     "output_type": "stream",
     "text": [
      "The winning team of the Super Bowl in 2024 is the Kansas City Chiefs. Their headquarters is located in the state of California. The GDP of California is $1.5 billion yearly revenue.\n"
     ]
    }
   ],
   "source": [
    "print(result['messages'][-1].content)"
   ]
  },
  {
   "cell_type": "code",
   "execution_count": 19,
   "id": "1d643182-2802-40fb-ba35-d4f893c5b976",
   "metadata": {
    "height": 30
   },
   "outputs": [
    {
     "name": "stdout",
     "output_type": "stream",
     "text": [
      "Calling: {'name': 'tavily_search_results_json', 'args': {'query': 'Toronto'}, 'id': 'call_cma6', 'type': 'tool_call'}\n",
      "Back to the model!\n"
     ]
    }
   ],
   "source": [
    "messages = [HumanMessage(content=\"what's Toronto\")]\n",
    "result = abot.graph.invoke({\"messages\": messages})"
   ]
  },
  {
   "cell_type": "code",
   "execution_count": 21,
   "id": "50a4dbc9",
   "metadata": {},
   "outputs": [
    {
     "name": "stdout",
     "output_type": "stream",
     "text": [
      "Toronto is Canada's largest city, the fourth largest in North America, and home to a diverse population of more than three million people. It's located on the northwestern shore of Lake Ontario, which forms part of the border between Canada and the United States. This strategic location has made Toronto an important international trading centre. The city has various neighborhoods such as Rosedale, the Annex, Cabbagetown, and the St. Lawrence Market neighborhood, each with its own unique character and history.\n"
     ]
    }
   ],
   "source": [
    "print(result['messages'][-1].content)"
   ]
  },
  {
   "cell_type": "code",
   "execution_count": 22,
   "id": "c036a899",
   "metadata": {},
   "outputs": [
    {
     "name": "stdout",
     "output_type": "stream",
     "text": [
      "Calling: {'name': 'tavily_search_results_json', 'args': {'query': 'Tim Hortons'}, 'id': 'call_wdbt', 'type': 'tool_call'}\n",
      "Back to the model!\n"
     ]
    }
   ],
   "source": [
    "messages = [HumanMessage(content=\"what's Tim Hortons\")]\n",
    "result = abot.graph.invoke({\"messages\": messages})"
   ]
  },
  {
   "cell_type": "code",
   "execution_count": 23,
   "id": "8b8e79db",
   "metadata": {},
   "outputs": [
    {
     "name": "stdout",
     "output_type": "stream",
     "text": [
      "Tim Hortons is a Canadian multinational fast-food restaurant chain that specializes in coffee, donuts, and other baked goods. It was founded in 1964 by Canadian hockey player Tim Horton and has since expanded to become one of the largest fast-food chains in Canada. The company is known for its iconic double-double coffee and has become a cultural fixture in Canada. It has also expanded to the United States and other countries.\n"
     ]
    }
   ],
   "source": [
    "print(result['messages'][-1].content)"
   ]
  },
  {
   "cell_type": "code",
   "execution_count": null,
   "id": "71b5a4f7",
   "metadata": {},
   "outputs": [],
   "source": []
  }
 ],
 "metadata": {
  "kernelspec": {
   "display_name": "Python 3 (ipykernel)",
   "language": "python",
   "name": "python3"
  },
  "language_info": {
   "codemirror_mode": {
    "name": "ipython",
    "version": 3
   },
   "file_extension": ".py",
   "mimetype": "text/x-python",
   "name": "python",
   "nbconvert_exporter": "python",
   "pygments_lexer": "ipython3",
   "version": "3.11.5"
  }
 },
 "nbformat": 4,
 "nbformat_minor": 5
}
