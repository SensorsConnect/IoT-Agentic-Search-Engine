{
 "cells": [
  {
   "cell_type": "code",
   "execution_count": 1,
   "id": "a0249045",
   "metadata": {},
   "outputs": [],
   "source": [
    "from typing import TypedDict, Annotated, List\n",
    "import operator\n",
    "\n",
    "class AnyMessage(TypedDict):\n",
    "    content: str\n",
    "    sender: str\n",
    "\n",
    "class AgentState(TypedDict):\n",
    "    messages: Annotated[List[AnyMessage], operator.add]\n"
   ]
  },
  {
   "cell_type": "code",
   "execution_count": 2,
   "id": "807561ba",
   "metadata": {},
   "outputs": [
    {
     "name": "stdout",
     "output_type": "stream",
     "text": [
      "{'messages': [{'content': 'Hello', 'sender': 'Agent'}, {'content': 'How can I help you?', 'sender': 'Agent'}, {'content': 'Hi', 'sender': 'User'}, {'content': 'I need assistance with my account.', 'sender': 'User'}]}\n"
     ]
    }
   ],
   "source": [
    "# First AgentState instance\n",
    "agent_state_1: AgentState = {\n",
    "    \"messages\": [\n",
    "        {\"content\": \"Hello\", \"sender\": \"Agent\"},\n",
    "        {\"content\": \"How can I help you?\", \"sender\": \"Agent\"},\n",
    "    ]\n",
    "}\n",
    "\n",
    "# Second AgentState instance\n",
    "agent_state_2: AgentState = {\n",
    "    \"messages\": [\n",
    "        {\"content\": \"Hi\", \"sender\": \"User\"},\n",
    "        {\"content\": \"I need assistance with my account.\", \"sender\": \"User\"},\n",
    "    ]\n",
    "}\n",
    "\n",
    "# Adding the messages from both instances\n",
    "combined_messages = operator.add(agent_state_1[\"messages\"], agent_state_2[\"messages\"])\n",
    "\n",
    "# Combined AgentState\n",
    "combined_agent_state: AgentState = {\n",
    "    \"messages\": combined_messages\n",
    "}\n",
    "\n",
    "# Display the combined messages\n",
    "print(combined_agent_state)\n"
   ]
  },
  {
   "cell_type": "code",
   "execution_count": null,
   "id": "9724d36f",
   "metadata": {},
   "outputs": [],
   "source": []
  }
 ],
 "metadata": {
  "kernelspec": {
   "display_name": "Python 3 (ipykernel)",
   "language": "python",
   "name": "python3"
  },
  "language_info": {
   "codemirror_mode": {
    "name": "ipython",
    "version": 3
   },
   "file_extension": ".py",
   "mimetype": "text/x-python",
   "name": "python",
   "nbconvert_exporter": "python",
   "pygments_lexer": "ipython3",
   "version": "3.11.5"
  }
 },
 "nbformat": 4,
 "nbformat_minor": 5
}
