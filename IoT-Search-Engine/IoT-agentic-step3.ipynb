{
 "cells": [
  {
   "cell_type": "code",
   "execution_count": 18,
   "id": "06013a7c",
   "metadata": {},
   "outputs": [],
   "source": [
    "# !pip install logging\n",
    "# from dotenv import load_dotenv\n",
    "# _ = load_dotenv()\n",
    "#llama3-groq-70b-8192-tool-use-preview\n",
    "import os\n",
    "from langchain_groq import ChatGroq\n",
    "import getpass\n",
    "# KnowledgeGraphTool\n",
    "import requests\n",
    "from langchain_groq import ChatGroq\n",
    "from langchain.prompts import ChatPromptTemplate\n",
    "from langchain.chains import LLMChain\n",
    "from langchain_core.tools import tool\n",
    "import logging\n",
    "\n",
    "def _set_env(var: str):\n",
    "    if not os.environ.get(var):\n",
    "        os.environ[var] = getpass.getpass(f\"{var}: \")\n",
    "\n",
    "_set_env(\"LANGSMITH_API_KEY\")\n",
    "os.environ[\"LANGCHAIN_TRACING_V2\"] = \"true\"\n",
    "os.environ[\"LANGCHAIN_PROJECT\"] = \"LangGraph IoT Engine\"\n",
    "# Load a specific environment variable\n",
    "GKGraph_API_KEY = os.environ.get('GKGraph_API_KEY')\n",
    "TAVILY_API_KEY=os.environ.get('TAVILY_API_KEY')\n",
    "# model = ChatGroq(model=\"llama3-8b-8192\")\n",
    "llm = ChatGroq(model=\"llama3-8b-8192\")"
   ]
  },
  {
   "cell_type": "code",
   "execution_count": 2,
   "id": "42b465e4",
   "metadata": {},
   "outputs": [],
   "source": [
    "def configure_logging(debug=False):\n",
    "    if debug:\n",
    "        logging.basicConfig(level=logging.DEBUG)\n",
    "    else:\n",
    "        logging.basicConfig(level=logging.INFO)\n",
    "        \n",
    "# Turn on debugging\n",
    "configure_logging(debug=False)"
   ]
  },
  {
   "cell_type": "code",
   "execution_count": 37,
   "id": "4166654c",
   "metadata": {},
   "outputs": [],
   "source": [
    "assistant_prompt= \"\"\"\n",
    "Act as an assistant  and answer user queries ONLY if you can \n",
    "User queries may fall into one of the following categories:\n",
    "1- Greeting/General: Greeting you or answering a general question you can ONLY answer.\n",
    "2- Service Recommendation: Asking for a recommendation for a service or a place to visit, such as I want to drink coffee, I am looking for a Middle Eastern restaurant, or Do you know any close hospital?\n",
    "3- Hard Question: General questions you can't answer, such as: who is the current president of the United States of America? Or any question related to current events happening as you don't have access to the current event happening right now\n",
    "Your response must follow the following JSON  objects based on each category:\n",
    " 1- Greeting/General: you need to provide your response ONLY in a JSON object as shown:\n",
    " {\n",
    " \"query-type\": \"greeting-general\",\n",
    " \"response\": write your response here\n",
    "}\n",
    "2-Service Recommendation: try to extract the service type and the city, country, Address, or Coordinates if mentioned. Your response is ONLY a JSON object. This JSON object must follow the following structure and set false in bool format for the value of the keys that you can't extract.\n",
    " { \n",
    "    \"query-type\": \"greeting-general\",\n",
    "    \"service\": extracted service type, \n",
    "    \"city\": extracted city,\n",
    "    \"city\": extracted country\"\n",
    "    \"address\": extracted address,\n",
    "    \"coordinates\":[extracted  latitude, extracted longitude]\n",
    "}\n",
    "3- Hard Question/current events: you need to provide your response ONLY JSON object as shown:\n",
    " {\n",
    " \"query-type\": \"hard-question\",\n",
    "}\n",
    "\"\"\"\n",
    "\n"
   ]
  },
  {
   "cell_type": "code",
   "execution_count": 5,
   "id": "46ad0a6a",
   "metadata": {},
   "outputs": [],
   "source": [
    "from typing import TypedDict, Annotated, Sequence\n",
    "import operator\n",
    "from langchain_core.messages import BaseMessage,AnyMessage\n",
    "\n",
    "\n",
    "class AgentState(TypedDict):\n",
    "    messages: Annotated[Sequence[BaseMessage], operator.add]\n",
    "    handled: bool= False\n",
    "    make_sense: bool=False\n",
    "        \n",
    "# class AgentState(TypedDict):\n",
    "#     messages: Annotated[list[AnyMessage], operator.add]\n",
    "#     handled: bool=False\n",
    "#     make_sense: bool=False"
   ]
  },
  {
   "cell_type": "code",
   "execution_count": 31,
   "id": "a1a55aad",
   "metadata": {},
   "outputs": [],
   "source": [
    "from langchain_core.messages import HumanMessage\n",
    "from langgraph.graph import END, MessageGraph,StateGraph\n",
    "\n",
    "def assistant_agent(state: AgentState):\n",
    "    logging.info(\"entering asstiant node\")\n",
    "    messages = state[\"messages\"]\n",
    "    response = llm.invoke(messages)\n",
    "    return {\"messages\":[response], \"handled\":True,  \"make_sense\": None}\n",
    "    \n",
    "def generator_agent(state: AgentState):\n",
    "    return input\n",
    "\n",
    "def reviewer_agent(state: AgentState):\n",
    "    logging.info(\"entering reviewer node\")\n",
    "    return {\"messages\":[HumanMessage(\"Hi how are You? How I can help you\")],\"handled\":True, \"make_sense\":True}\n",
    "\n",
    "def IoT_engine(state: AgentState):\n",
    "    lgging.info(\"Using branch B\")\n",
    "    return input\n",
    "\n",
    "\n",
    "def GoogleMaps(state: AgentState):\n",
    "    logging.info(\"Using branch C\")\n",
    "    return input\n",
    "\n",
    "def GoogleKnowledgeGraph(state: AgentState):\n",
    "    logging.info(\"Using branch C\")\n",
    "    return input\n",
    "\n",
    "\n",
    "def Scrapper(state: AgentState):\n",
    "    if \"use_b\" in input[0].content:\n",
    "        return \"branch_b\"\n",
    "    else:\n",
    "        return \"branch_c\"\n",
    "\n",
    "def assitant_router(state: AgentState):\n",
    "    logging.info(\"STATE at assitant_router:\", state)\n",
    "    messages = state[\"messages\"]\n",
    "    last_message = messages[-1]\n",
    "    logging.info(last_message)\n",
    "    logging.info(state[\"handled\"])\n",
    "    if  state[\"handled\"]:\n",
    "        logging.info(\"@assitant_router and handled true\")\n",
    "        return \"reviewer_agent\"\n",
    "    else:\n",
    "        return \"IoT_engine\"\n",
    "\n",
    "def reviewer_router(state: AgentState):\n",
    "    logging.info(\"I'm in reviewer router\")\n",
    "    if  state[\"make_sense\"]:\n",
    "        logging.info(\"Make sense True at reviewer writer\")\n",
    "        return \"END\"\n",
    "    else:\n",
    "        return \"IoT_engine\"\n",
    "\n",
    "\n",
    "def router(state: AgentState):\n",
    "    if  state[\"make_sense\"]:\n",
    "        return \"END\"\n",
    "    else:\n",
    "        return \"IoT_engine\"\n",
    "# graph = MessageGraph()\n",
    "graph=StateGraph(AgentState)\n",
    "graph.add_node(\"assistant_agent\", assistant_agent)\n",
    "graph.add_node(\"generator_agent\", generator_agent)\n",
    "graph.add_node(\"IoT_engine\", IoT_engine)\n",
    "graph.add_node(\"GoogleMaps\", GoogleMaps)\n",
    "graph.add_node(\"GoogleKnowledgeGraph\", GoogleKnowledgeGraph)\n",
    "graph.add_node(\"Scrapper\", Scrapper)\n",
    "graph.add_node(\"reviewer_agent\", reviewer_agent)\n",
    "\n",
    "\n",
    "# graph.add_edge(\"assistant_agent\", \"reviewer_agent\")\n",
    "# graph.add_edge(\"assistant_agent\", \"IoT_engine\")\n",
    "\n",
    "graph.add_conditional_edges(\n",
    "    \"assistant_agent\", assitant_router, {\"reviewer_agent\": \"reviewer_agent\", \"IoT_engine\": \"IoT_engine\"}\n",
    ")\n",
    "\n",
    "\n",
    "graph.add_conditional_edges(\n",
    "    \"IoT_engine\", router, {\"generator_agent\": \"generator_agent\", \"GoogleMaps\": \"GoogleMaps\"}\n",
    ")\n",
    "\n",
    "# graph.add_edge(\"IoT_engine\", \"generator_agent\")\n",
    "# graph.add_edge(\"IoT_engine\", \"GoogleMaps\")\n",
    "\n",
    "\n",
    "# graph.add_edge(\"GoogleMaps\", \"generator_agent\")\n",
    "# graph.add_edge(\"GoogleMaps\", \"GoogleKnowledgeGraph\")\n",
    "graph.add_conditional_edges(\n",
    "    \"GoogleMaps\", router, {\"generator_agent\": \"generator_agent\", \"GoogleKnowledgeGraph\": \"GoogleKnowledgeGraph\"}\n",
    ")\n",
    "\n",
    "\n",
    "# graph.add_edge(\"GoogleKnowledgeGraph\", \"generator_agent\")\n",
    "# graph.add_edge(\"GoogleKnowledgeGraph\", \"Scrapper\")\n",
    "graph.add_conditional_edges(\n",
    "    \"GoogleKnowledgeGraph\", router, {\"generator_agent\": \"generator_agent\", \"Scrapper\": \"Scrapper\"}\n",
    ")\n",
    "\n",
    "# graph.add_edge(\"Scrapper\", \"generator_agent\")\n",
    "\n",
    "graph.add_edge(\"generator_agent\",\"reviewer_agent\")\n",
    "\n",
    "graph.add_conditional_edges(\n",
    "    \"reviewer_agent\", reviewer_router, { \"Scrapper\": \"Scrapper\" ,\"END\":END}\n",
    ")\n",
    "\n",
    "\n",
    "graph.set_entry_point(\"assistant_agent\")\n",
    "\n",
    "runnable = graph.compile()"
   ]
  },
  {
   "cell_type": "code",
   "execution_count": 32,
   "id": "c913c19e",
   "metadata": {},
   "outputs": [
    {
     "data": {
      "image/jpeg": "[encoded data removed]",
      "text/plain": [
       "<IPython.core.display.Image object>"
      ]
     },
     "metadata": {},
     "output_type": "display_data"
    }
   ],
   "source": [
    "from IPython.display import Image, display\n",
    "\n",
    "display(Image(runnable.get_graph().draw_mermaid_png()))"
   ]
  },
  {
   "cell_type": "code",
   "execution_count": 35,
   "id": "4cce1ea6",
   "metadata": {},
   "outputs": [
    {
     "name": "stderr",
     "output_type": "stream",
     "text": [
      "INFO:root:entering asstiant node\n",
      "INFO:httpx:HTTP Request: POST https://api.groq.com/openai/v1/chat/completions \"HTTP/1.1 200 OK\"\n",
      "INFO:root:STATE at assitant_router:\n",
      "INFO:root:content='{\\n  \"query-type\": \"greeting-general\",\\n  \"response\": \"Hello! How can I assist you today?\"\\n}' response_metadata={'token_usage': {'completion_tokens': 27, 'prompt_tokens': 344, 'total_tokens': 371, 'completion_time': 0.021318044, 'prompt_time': 0.070368012, 'queue_time': None, 'total_time': 0.09168605599999999}, 'model_name': 'llama3-8b-8192', 'system_fingerprint': 'fp_6a6771ae9c', 'finish_reason': 'stop', 'logprobs': None} id='run-64ceec45-3e6e-45d2-94c3-757d90d38bba-0' usage_metadata={'input_tokens': 344, 'output_tokens': 27, 'total_tokens': 371}\n",
      "INFO:root:True\n",
      "INFO:root:@assitant_router and handled true\n",
      "INFO:root:entering reviewer node\n",
      "INFO:root:I'm in reviewer router\n",
      "INFO:root:Make sense True at reviewer writer\n"
     ]
    }
   ],
   "source": [
    "from langchain_core.messages import SystemMessage\n",
    "\n",
    "system_message = SystemMessage(content=assistant_prompt)\n",
    "human_message = HumanMessage(content=\"Hi\")\n",
    "messages = [system_message, human_message]\n",
    "\n",
    "result = runnable.invoke({\"messages\": messages, \"api_call_count\": 0})"
   ]
  },
  {
   "cell_type": "code",
   "execution_count": 40,
   "id": "a5b73d43",
   "metadata": {},
   "outputs": [
    {
     "name": "stderr",
     "output_type": "stream",
     "text": [
      "INFO:root:entering asstiant node\n",
      "INFO:httpx:HTTP Request: POST https://api.groq.com/openai/v1/chat/completions \"HTTP/1.1 200 OK\"\n",
      "INFO:root:STATE at assitant_router:\n",
      "INFO:root:content='{\\n    \"query-type\": \"service-recommendation\",\\n    \"service\": \"hotel\",\\n    \"city\": false,\\n    \"country\": false,\\n    \"address\": false,\\n    \"coordinates\": false\\n}' response_metadata={'token_usage': {'completion_tokens': 45, 'prompt_tokens': 359, 'total_tokens': 404, 'completion_time': 0.03541839, 'prompt_time': 0.055471701, 'queue_time': None, 'total_time': 0.090890091}, 'model_name': 'llama3-8b-8192', 'system_fingerprint': 'fp_a97cfe35ae', 'finish_reason': 'stop', 'logprobs': None} id='run-f827d0ca-ba29-44f6-bbbf-6641b7ed4382-0' usage_metadata={'input_tokens': 359, 'output_tokens': 45, 'total_tokens': 404}\n",
      "INFO:root:True\n",
      "INFO:root:@assitant_router and handled true\n",
      "INFO:root:entering reviewer node\n",
      "INFO:root:I'm in reviewer router\n",
      "INFO:root:Make sense True at reviewer writer\n"
     ]
    }
   ],
   "source": [
    "from langchain_core.messages import SystemMessage\n",
    "\n",
    "system_message = SystemMessage(content=assistant_prompt)\n",
    "human_message = HumanMessage(content=\"can you suggest a place for my vecation?\")\n",
    "messages = [system_message, human_message]\n",
    "\n",
    "result = runnable.invoke({\"messages\": messages, \"api_call_count\": 0})"
   ]
  },
  {
   "cell_type": "code",
   "execution_count": 25,
   "id": "8044083f",
   "metadata": {},
   "outputs": [
    {
     "name": "stdout",
     "output_type": "stream",
     "text": [
      "content='\\nAct as an assistant  and answer user queries ONLY if you can \\nUser queries may fall into one of the following categories:\\n1- Greeting/General: Greeting you or answering a general question you can ONLY answer.\\n2- Service Recommendation: Asking for a recommendation for a service or a place to visit, such as I want to drink coffee, I am looking for a Middle Eastern restaurant, or Do you know any close hospital?\\n3- Hard Question: General questions you can\\'t answer, such as: who is the current president of the United States of America? Or any question related to current events happening as you don\\'t have access to the current event happening right now\\nYour response must follow the following JSON  objects based on each category:\\n 1- Greeting/General: you need to provide your response ONLY in a JSON object as shown:\\n {\\n \"query-type\": \"greeting-general\",\\n \"response\": write your response here\\n}\\n2-Service Recommendation: try to extract the service type and the city, country, Address, or Coordinates if mentioned. Your response is ONLY a JSON object. This JSON object must follow the following structure and set none for the value of the keys that you can\\'t extract.\\n { \\n    \"query-type\": \"greeting-general\",\\n    \"service\": extracted service type, \\n    \"city\": extracted city,\\n    \"city\": extracted country\"\\n    \"address\": extracted address,\\n    \"coordinates\":[extracted  latitude, extracted longitude]\\n}\\n3- Hard Question/current events: you need to provide your response ONLY JSON object as shown:\\n {\\n \"query-type\": \"hard-question\",\\n}\\n'\n",
      "content='I want to take my dog for walking and playing catch the ball, so I can unleash him'\n",
      "content='{\\n  \"query-type\": \"greeting-general\",\\n  \"response\": \"That sounds like a great way to spend time with your furry friend! Make sure to choose a safe and comfortable location for your activities, and have fun with your dog!\"\\n}' response_metadata={'token_usage': {'completion_tokens': 52, 'prompt_tokens': 365, 'total_tokens': 417, 'completion_time': 0.040837823, 'prompt_time': 0.055292545, 'queue_time': None, 'total_time': 0.096130368}, 'model_name': 'llama3-8b-8192', 'system_fingerprint': 'fp_873a560973', 'finish_reason': 'stop', 'logprobs': None} id='run-9bbc70c7-3ba6-4ce4-a085-1920701ed7b3-0' usage_metadata={'input_tokens': 365, 'output_tokens': 52, 'total_tokens': 417}\n",
      "content='Hi how are You? How I can help you'\n"
     ]
    }
   ],
   "source": [
    "for i in result[\"messages\"]:\n",
    "    print(i)"
   ]
  },
  {
   "cell_type": "code",
   "execution_count": 3,
   "id": "0245c8dc",
   "metadata": {},
   "outputs": [
    {
     "name": "stderr",
     "output_type": "stream",
     "text": [
      "INFO:root:This is an info message\n",
      "WARNING:root:This is a warning message\n",
      "ERROR:root:This is an error message\n",
      "CRITICAL:root:This is a critical message\n"
     ]
    }
   ],
   "source": [
    "logging.debug(\"This is a debug message\")\n",
    "logging.info(\"This is an info message\")\n",
    "logging.warning(\"This is a warning message\")\n",
    "logging.error(\"This is an error message\")\n",
    "logging.critical(\"This is a critical message\")"
   ]
  },
  {
   "cell_type": "code",
   "execution_count": null,
   "id": "f05455ee",
   "metadata": {},
   "outputs": [],
   "source": []
  }
 ],
 "metadata": {
  "kernelspec": {
   "display_name": "Python 3 (ipykernel)",
   "language": "python",
   "name": "python3"
  },
  "language_info": {
   "codemirror_mode": {
    "name": "ipython",
    "version": 3
   },
   "file_extension": ".py",
   "mimetype": "text/x-python",
   "name": "python",
   "nbconvert_exporter": "python",
   "pygments_lexer": "ipython3",
   "version": "3.11.5"
  }
 },
 "nbformat": 4,
 "nbformat_minor": 5
}
