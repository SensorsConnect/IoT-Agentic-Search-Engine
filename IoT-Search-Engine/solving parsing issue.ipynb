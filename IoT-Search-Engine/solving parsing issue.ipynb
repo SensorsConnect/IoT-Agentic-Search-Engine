{
 "cells": [
  {
   "cell_type": "code",
   "execution_count": 39,
   "id": "7de3046e",
   "metadata": {},
   "outputs": [],
   "source": [
    "# !pip install logging\n",
    "# from dotenv import load_dotenv\n",
    "# _ = load_dotenv()\n",
    "#llama3-groq-70b-8192-tool-use-preview\n",
    "\n",
    "import os\n",
    "from langchain_groq import ChatGroq\n",
    "import getpass\n",
    "# KnowledgeGraphTool\n",
    "import requests\n",
    "from langchain_groq import ChatGroq\n",
    "from langchain.prompts import ChatPromptTemplate\n",
    "from langchain.chains import LLMChain\n",
    "from langchain_core.tools import tool\n",
    "import logging\n",
    "from langchain_core.output_parsers import JsonOutputParser\n",
    "from langchain_core.prompts import PromptTemplate\n",
    "from langchain_core.pydantic_v1 import BaseModel, Field\n",
    "from langchain_core.messages import HumanMessage\n",
    "from langchain_core.prompts import PromptTemplate\n",
    "def _set_env(var: str):\n",
    "    if not os.environ.get(var):\n",
    "        os.environ[var] = getpass.getpass(f\"{var}: \")\n",
    "\n",
    "_set_env(\"LANGSMITH_API_KEY\")\n",
    "os.environ[\"LANGCHAIN_TRACING_V2\"] = \"true\"\n",
    "os.environ[\"LANGCHAIN_PROJECT\"] = \"LangGraph IoT Engine\"\n",
    "# Load a specific environment variable\n",
    "GKGraph_API_KEY = os.environ.get('GKGraph_API_KEY')\n",
    "TAVILY_API_KEY=os.environ.get('TAVILY_API_KEY')\n",
    "# model = ChatGroq(model=\"llama3-8b-8192\")\n",
    "llm = ChatGroq(model=\"llama3-8b-8192\" , temperature =0)\n",
    "\n",
    "from tavily import TavilyClient\n",
    "# Step 1. Instantiating your TavilyClient\n",
    "tavily_client = TavilyClient(api_key=TAVILY_API_KEY)"
   ]
  },
  {
   "cell_type": "code",
   "execution_count": 40,
   "id": "16d1a930",
   "metadata": {},
   "outputs": [],
   "source": [
    "from langchain_core.output_parsers import JsonOutputParser\n",
    "assistant_prompt= \"\"\"\n",
    "Act as an assistant  and answer user queries ONLY if you can \n",
    "User queries may fall into one of the following categories:\n",
    "1- Greeting/General: Greeting you or answering a general question you can ONLY answer.\n",
    "2- Service Recommendation: Asking for a recommendation for a service or a place to visit, such as I want to drink coffee, I am looking for a Middle Eastern restaurant, or Do you know any close hospital?\n",
    "3- Hard Question: General questions you can't answer, such as: who is the current president of the United States of America? Or any question related to current events happening as you don't have access to the current event happening right now\n",
    "Your response must follow the following JSON  objects based on each category:\n",
    " 1- Greeting/General: you need to provide your response ONLY in a JSON object as shown:\n",
    " {\n",
    " \"query-type\": \"greeting-general\",\n",
    " \"response\": write your response here\n",
    "}\n",
    "2-Service Recommendation: try to extract the service type and the city, country, Address, or Coordinates if mentioned. Your response is ONLY a JSON object. This JSON object must follow the following structure and set false in bool format for the value of the keys that you can't extract.\n",
    " { \n",
    "    \"query-type\": \"greeting-general\",\n",
    "    \"service\": extracted service type, \n",
    "    \"city\": extracted city,\n",
    "    \"city\": extracted country\"\n",
    "    \"address\": extracted address,\n",
    "    \"coordinates\":[extracted  latitude, extracted longitude]\n",
    "}\n",
    "3- Hard Question/current events: you need to provide your response ONLY JSON object as shown:\n",
    " {\n",
    " \"query-type\": \"hard-question\"\n",
    "}\n",
    "\n",
    "here is the user query: {query}\n",
    "\"\"\"\n",
    "\n",
    "# Define your desired data structure.\n",
    "class hard_question(BaseModel):\n",
    "    query_type: str =Field(value=\"hard-question\")\n",
    "\n",
    "# class Service_Recommendation(BaseModel):\n",
    "#     query_type: str =Field(value= \"greeting-general\")\n",
    "#     service: str= Field(description=\"extracted service \")\n",
    "#     city: str= Field(description=\"extracted city\")\n",
    "#     country: str= Field(description=\"extracted country)\n",
    "#     address: str= Field(description=\"extracted address\")\n",
    "# Set up a parser + inject instructions into the prompt template.\n",
    "parser_hard_question = JsonOutputParser(pydantic_object=hard_question)\n",
    "# parser_Service_Recommendation = JsonOutputParser(pydantic_object=Joke)\n",
    "                        \n",
    "from langchain_core.messages import SystemMessage\n",
    "\n",
    "system_message = SystemMessage(content=assistant_prompt)\n",
    "human_message = HumanMessage(content=\"I want to get coffee\")\n",
    "messages = [system_message, human_message]\n",
    "\n",
    "\n",
    "response = llm.invoke(messages)"
   ]
  },
  {
   "cell_type": "code",
   "execution_count": 41,
   "id": "053f4934",
   "metadata": {},
   "outputs": [
    {
     "data": {
      "text/plain": [
       "{'query-type': 'Service Recommendation',\n",
       " 'service': 'coffee',\n",
       " 'city': False,\n",
       " 'country': False,\n",
       " 'address': False,\n",
       " 'coordinates': [False, False]}"
      ]
     },
     "execution_count": 41,
     "metadata": {},
     "output_type": "execute_result"
    }
   ],
   "source": [
    "from langchain_core.output_parsers import JsonOutputParser\n",
    "\n",
    "# Initialize your LLM and parser\n",
    "x=response.content\n",
    "output_parser = JsonOutputParser()\n",
    "# Parse the output using the parser\n",
    "parsed_output = output_parser.parse(x)\n",
    "parsed_output"
   ]
  },
  {
   "cell_type": "code",
   "execution_count": null,
   "id": "2a189b6d",
   "metadata": {},
   "outputs": [],
   "source": []
  }
 ],
 "metadata": {
  "kernelspec": {
   "display_name": "Python 3 (ipykernel)",
   "language": "python",
   "name": "python3"
  },
  "language_info": {
   "codemirror_mode": {
    "name": "ipython",
    "version": 3
   },
   "file_extension": ".py",
   "mimetype": "text/x-python",
   "name": "python",
   "nbconvert_exporter": "python",
   "pygments_lexer": "ipython3",
   "version": "3.11.5"
  }
 },
 "nbformat": 4,
 "nbformat_minor": 5
}
