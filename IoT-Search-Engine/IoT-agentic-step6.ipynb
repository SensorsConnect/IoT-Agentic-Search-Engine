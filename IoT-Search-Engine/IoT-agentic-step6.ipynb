{
 "cells": [
  {
   "cell_type": "code",
   "execution_count": 1,
   "id": "aba5a40a",
   "metadata": {},
   "outputs": [],
   "source": [
    "import logging\n",
    "\n",
    "def configure_logging(debug=False):\n",
    "    if debug:\n",
    "        logging.basicConfig(level=logging.DEBUG)\n",
    "    else:\n",
    "        logging.basicConfig(level=logging.INFO)\n",
    "        \n",
    "# Turn on debugging\n",
    "configure_logging(debug=False)\n",
    "\n",
    "\n",
    "# !pip install logging\n",
    "# from dotenv import load_dotenv\n",
    "# _ = load_dotenv()\n",
    "#llama3-groq-70b-8192-tool-use-preview\n",
    "\n",
    "import os\n",
    "from langchain_groq import ChatGroq\n",
    "import getpass\n",
    "# KnowledgeGraphTool\n",
    "import requests\n",
    "from langchain_groq import ChatGroq\n",
    "from langchain.prompts import ChatPromptTemplate\n",
    "from langchain.chains import LLMChain\n",
    "from langchain_core.tools import tool\n",
    "\n",
    "\n",
    "from langchain_core.prompts import PromptTemplate\n",
    "\n",
    "\n",
    "def _set_env(var: str):\n",
    "    if not os.environ.get(var):\n",
    "        os.environ[var] = getpass.getpass(f\"{var}: \")\n",
    "\n",
    "_set_env(\"LANGSMITH_API_KEY\")\n",
    "os.environ[\"LANGCHAIN_TRACING_V2\"] = \"true\"\n",
    "os.environ[\"LANGCHAIN_PROJECT\"] = \"LangGraph IoT Engine\"\n",
    "# Load a specific environment variable\n",
    "GKGraph_API_KEY = os.environ.get('GKGraph_API_KEY')\n",
    "TAVILY_API_KEY=os.environ.get('TAVILY_API_KEY')\n",
    "# model = ChatGroq(model=\"llama3-8b-8192\")\n",
    "llm = ChatGroq(model=\"llama3-8b-8192\" , temperature =0)\n",
    "\n",
    "from tavily import TavilyClient\n",
    "# Step 1. Instantiating your TavilyClient\n",
    "tavily_client = TavilyClient(api_key=TAVILY_API_KEY)\n",
    "\n",
    "\n",
    "\n",
    "# !pip install langgraph-checkpoint-sqlite\n",
    "from langgraph.checkpoint.sqlite import SqliteSaver\n",
    "import sqlite3\n",
    "import re\n",
    "import json\n",
    "\n",
    "db = sqlite3.connect(\":memory:\", check_same_thread=False)\n",
    "memory = SqliteSaver(db)\n",
    "\n",
    "\n",
    "from langchain_core.output_parsers import JsonOutputParser\n",
    "\n",
    "parser = JsonOutputParser()\n",
    "\n",
    "\n",
    "def prepaer_states(json_obj):\n",
    "    \"\"\"\n",
    "    Ensure all keys are present in the JSON object. \n",
    "    If a key is missing, set its value to None.\n",
    "\n",
    "    Args:\n",
    "        json_obj (dict): The JSON object to check.\n",
    "        keys (list): List of keys to ensure in the JSON object.\n",
    "\n",
    "    Returns:\n",
    "        dict: The updated JSON object with all specified keys.\n",
    "    \"\"\"\n",
    "    keys = [\"messages\", \"handled\", \"make_sense\", \"node\"]\n",
    "    for key in keys:\n",
    "        if key not in json_obj:\n",
    "            json_obj[key] = [None]\n",
    "    return json_obj"
   ]
  },
  {
   "cell_type": "code",
   "execution_count": 2,
   "id": "4166654c",
   "metadata": {},
   "outputs": [],
   "source": [
    "from langchain_core.output_parsers import JsonOutputParser\n",
    "assistant_prompt= \"\"\"\n",
    "Act as an assistant  and answer user queries ONLY if you can \n",
    "User queries may fall into one of the following categories:\n",
    "1- Greeting/General: Greeting you or answering a general question you can ONLY answer.\n",
    "2- Service Recommendation: Asking for a recommendation for a service or a place to visit, such as I want to drink coffee, I am looking for a Middle Eastern restaurant, or Do you know any close hospital?\n",
    "3- Hard Question: General questions you can't answer, such as: who is the current president of the United States of America? Or any question related to current events happening as you don't have access to the current event happening right now\n",
    "Your response must follow the following JSON  objects based on each category:\n",
    " 1- Greeting/General: you need to provide your response ONLY in a JSON object as shown:\n",
    " {\n",
    " \"query-type\": \"greeting-general\",\n",
    " \"response\": write your response here\n",
    "}\n",
    "2-Service Recommendation: try to extract the service type and the city, country, Address, or Coordinates if mentioned. Your response is ONLY a JSON object. This JSON object must follow the following structure and set false in bool format for the value of the keys that you can't extract.\n",
    " { \n",
    "    \"query-type\": \"serivce-recommendation\",\n",
    "    \"service\": extracted service type, \n",
    "    \"city\": extracted city,\n",
    "    \"city\": extracted country\"\n",
    "    \"address\": extracted address,\n",
    "    \"coordinates\":[extracted  latitude, extracted longitude]\n",
    "}\n",
    "3- Hard Question/current events: you need to provide your response ONLY JSON object as shown:\n",
    "{\n",
    " \"query-type\": \"hard-question\"\n",
    "}\n",
    "\n",
    "\"\"\"\n",
    "\n",
    "\n",
    "\n",
    "\n",
    "\n"
   ]
  },
  {
   "cell_type": "code",
   "execution_count": 3,
   "id": "46ad0a6a",
   "metadata": {},
   "outputs": [],
   "source": [
    "from typing import TypedDict, Annotated, Sequence,List\n",
    "import operator\n",
    "from langchain_core.messages import BaseMessage,AnyMessage\n",
    "\n",
    "\n",
    "class AgentState(TypedDict):\n",
    "    messages: Annotated[Sequence[BaseMessage], operator.add]\n",
    "    handled: Annotated[List[bool], operator.add]\n",
    "    make_sense: Annotated[List[bool], operator.add]\n",
    "    node: Annotated[List[str], operator.add]\n",
    "        \n"
   ]
  },
  {
   "cell_type": "code",
   "execution_count": 32,
   "id": "a1a55aad",
   "metadata": {},
   "outputs": [],
   "source": [
    "from langchain_core.messages import HumanMessage\n",
    "from langgraph.graph import END, MessageGraph,StateGraph\n",
    "from langchain_community.tools.tavily_search import TavilySearchResults\n",
    "TavilySearch = TavilySearchResults(max_results=2) #increased number of results\n",
    "from langchain_core.messages import SystemMessage\n",
    "def assistant_agent(state: AgentState):\n",
    "    print(\"assistent node\")\n",
    "    agent_message={}\n",
    "    agent_message[\"node\"]=[\"assistant_agent\"]\n",
    "    logging.info(\"entering asstiant node\")\n",
    "    messages = state[\"messages\"]\n",
    "    print(f\"messages: \\n {messages}\")\n",
    "    \n",
    "    prompt=list(messages)+[SystemMessage(content=assistant_prompt)]\n",
    "    print(prompt)\n",
    "    response = llm.invoke(prompt)\n",
    "    print(response)\n",
    "    agent_message[\"messages\"]=[response]\n",
    "#     agent_message[\"handled\"]=[True]\n",
    "    print(\"agent_message\")\n",
    "    return prepaer_states(agent_message)\n",
    "    \n",
    "def generator_agent(state: AgentState):\n",
    "    return prepaer_states({\"node\":[\"generator-agent\"]})\n",
    "\n",
    "def reviewer_agent(state: AgentState):\n",
    "    logging.info(\"entering reviewer node\")\n",
    "    dictionary= {\"messages\":[HumanMessage(\"Hi how are You? How I can help you\")],\"handled\":[True], \"make_sense\":[True]}\n",
    "    return prepaer_states(dictionary)\n",
    "\n",
    "def IoT_engine(state: AgentState):\n",
    "    logging.info(\"Using branch B\")\n",
    "    return input\n",
    "\n",
    "\n",
    "def GoogleMaps(state: AgentState):\n",
    "    logging.info(\"Using branch C\")\n",
    "    return input\n",
    "\n",
    "def GoogleKnowledgeGraph(state: AgentState):\n",
    "    logging.info(\"Using branch C\")\n",
    "    return input\n",
    "\n",
    "\n",
    "def scrapper(state: AgentState):\n",
    "        # Step 2. Executing a simple search query\n",
    "    messages=state[\"messages\"] \n",
    "    human_messages=\"\"\n",
    "    for  message in messages:\n",
    "        if message.type =='human':\n",
    "            human_messages+= \" \\n\"+ message.content\n",
    "    logging.info(human_messages)\n",
    "    response = tavily_client.search(human_messages)\n",
    "    if(response[\"results\"][0]):\n",
    "        search_result=response[\"results\"]\n",
    "        logging.info(search_result)\n",
    "        return prepaer_states({\"messages\":[SystemMessage(str(search_result))], \"handled\":[True], \"node\":[\"scrapper\"]})\n",
    "    else:\n",
    "        return prepaer_states({\"handled\":[False]})\n",
    "\n",
    "\n",
    "def assitant_router(state: AgentState):\n",
    "    logging.info(\"STATE at assitant_router:\", state)\n",
    "    messages = state[\"messages\"]\n",
    "    last_message = messages[-1]\n",
    "    logging.info(last_message)\n",
    "    response_json=parser.parse(last_message.content)\n",
    "    if response_json[\"query-type\"] == \"greeting-general\":\n",
    "        logging.info(\"@assitant_router catch greeting-general\")\n",
    "        return \"reviewer_agent\"\n",
    "    elif response_json[\"query-type\"] == \"service-recommendation\": \n",
    "        logging.info(\"@assitant_router catch serivce-recommendation\")\n",
    "        return \"IoT-engine\"\n",
    "    else:\n",
    "        logging.info(\"@assitant_router no catch serivce-recommendation\")\n",
    "        return \"scrapper\"\n",
    "        \n",
    "\n",
    "def scrapper_router(state: AgentState):\n",
    "    logging.info(\"STATE at assitant_router:\", state)\n",
    "    messages = state[\"messages\"]\n",
    "    last_message = messages[-1]\n",
    "    logging.info(last_message)\n",
    "    last_handled= state[\"handled\"]\n",
    "    logging.info(state[\"handled\"])\n",
    "    if  state[\"handled\"]:\n",
    "        logging.info(\"@scrapper_router and handled true\")\n",
    "        return \"generator_agent\"\n",
    "    else:\n",
    "        return \"generator_agent\"\n",
    "\n",
    "def reviewer_router(state: AgentState):\n",
    "    logging.info(\"I'm in reviewer router\")\n",
    "    if  state[\"make_sense\"]:\n",
    "        logging.info(\"Make sense True at reviewer writer\")\n",
    "        return \"END\"\n",
    "    else:\n",
    "        return \"IoT_engine\"\n",
    "\n",
    "\n",
    "def router(state: AgentState):\n",
    "    if  state[\"make_sense\"]:\n",
    "        return \"END\"\n",
    "    else:\n",
    "        return \"IoT_engine\"\n",
    "# graph = MessageGraph()\n",
    "graph=StateGraph(AgentState)\n",
    "graph.add_node(\"assistant_agent\", assistant_agent)\n",
    "graph.add_node(\"generator_agent\", generator_agent)\n",
    "graph.add_node(\"IoT_engine\", IoT_engine)\n",
    "graph.add_node(\"GoogleMaps\", GoogleMaps)\n",
    "graph.add_node(\"GoogleKnowledgeGraph\", GoogleKnowledgeGraph)\n",
    "graph.add_node(\"scrapper\", scrapper)\n",
    "graph.add_node(\"reviewer_agent\", reviewer_agent)\n",
    "\n",
    "\n",
    "# graph.add_edge(\"assistant_agent\", \"reviewer_agent\")\n",
    "# graph.add_edge(\"assistant_agent\", \"IoT_engine\")\n",
    "\n",
    "graph.add_conditional_edges(\n",
    "    \"assistant_agent\", assitant_router, {\"reviewer_agent\": \"reviewer_agent\", \"IoT_engine\": \"IoT_engine\", \"scrapper\":\"scrapper\"}\n",
    ")\n",
    "\n",
    "\n",
    "graph.add_conditional_edges(\n",
    "    \"scrapper\", scrapper_router, {\"generator_agent\": \"generator_agent\", \"GoogleMaps\": \"GoogleMaps\"}\n",
    ")\n",
    "\n",
    "# graph.add_edge(\"IoT_engine\", \"generator_agent\")\n",
    "# graph.add_edge(\"IoT_engine\", \"GoogleMaps\")\n",
    "\n",
    "graph.add_conditional_edges(\n",
    "    \"IoT_engine\", router, {\"generator_agent\": \"generator_agent\", \"GoogleMaps\": \"GoogleMaps\"}\n",
    ")\n",
    "\n",
    "# graph.add_edge(\"GoogleMaps\", \"generator_agent\")\n",
    "# graph.add_edge(\"GoogleMaps\", \"GoogleKnowledgeGraph\")\n",
    "graph.add_conditional_edges(\n",
    "    \"GoogleMaps\", router, {\"generator_agent\": \"generator_agent\", \"GoogleKnowledgeGraph\": \"GoogleKnowledgeGraph\"}\n",
    ")\n",
    "\n",
    "\n",
    "# graph.add_edge(\"GoogleKnowledgeGraph\", \"generator_agent\")\n",
    "# graph.add_edge(\"GoogleKnowledgeGraph\", \"scrapper\")\n",
    "graph.add_conditional_edges(\n",
    "    \"GoogleKnowledgeGraph\", router, {\"generator_agent\": \"generator_agent\",\"GoogleMaps\":\"GoogleMaps\" , \"scrapper\": \"scrapper\"}\n",
    ")\n",
    "\n",
    "# graph.add_edge(\"scrapper\", \"generator_agent\")\n",
    "\n",
    "graph.add_edge(\"generator_agent\",\"reviewer_agent\")\n",
    "\n",
    "graph.add_conditional_edges(\n",
    "    \"reviewer_agent\", reviewer_router, { \"scrapper\": \"scrapper\", \"GoogleMaps\":\"GoogleMaps\" ,\"END\":END}\n",
    ")\n",
    "\n",
    "\n",
    "graph.set_entry_point(\"assistant_agent\")\n",
    "\n",
    "runnable = graph.compile(checkpointer=memory,  interrupt_before=[\"scrapper\"])"
   ]
  },
  {
   "cell_type": "code",
   "execution_count": 18,
   "id": "c913c19e",
   "metadata": {},
   "outputs": [
    {
     "data": {
      "image/jpeg": "[encoded data removed]",
      "text/plain": [
       "<IPython.core.display.Image object>"
      ]
     },
     "metadata": {},
     "output_type": "display_data"
    }
   ],
   "source": [
    "from IPython.display import Image, display\n",
    "\n",
    "display(Image(runnable.get_graph().draw_mermaid_png()))"
   ]
  },
  {
   "cell_type": "code",
   "execution_count": 41,
   "id": "4cce1ea6",
   "metadata": {},
   "outputs": [
    {
     "name": "stderr",
     "output_type": "stream",
     "text": [
      "INFO:root:entering asstiant node\n"
     ]
    },
    {
     "name": "stdout",
     "output_type": "stream",
     "text": [
      "assistent node\n",
      "messages: \n",
      " [HumanMessage(content='Hi')]\n",
      "[HumanMessage(content='Hi'), SystemMessage(content='\\nAct as an assistant  and answer user queries ONLY if you can \\nUser queries may fall into one of the following categories:\\n1- Greeting/General: Greeting you or answering a general question you can ONLY answer.\\n2- Service Recommendation: Asking for a recommendation for a service or a place to visit, such as I want to drink coffee, I am looking for a Middle Eastern restaurant, or Do you know any close hospital?\\n3- Hard Question: General questions you can\\'t answer, such as: who is the current president of the United States of America? Or any question related to current events happening as you don\\'t have access to the current event happening right now\\nYour response must follow the following JSON  objects based on each category:\\n 1- Greeting/General: you need to provide your response ONLY in a JSON object as shown:\\n {\\n \"query-type\": \"greeting-general\",\\n \"response\": write your response here\\n}\\n2-Service Recommendation: try to extract the service type and the city, country, Address, or Coordinates if mentioned. Your response is ONLY a JSON object. This JSON object must follow the following structure and set false in bool format for the value of the keys that you can\\'t extract.\\n { \\n    \"query-type\": \"serivce-recommendation\",\\n    \"service\": extracted service type, \\n    \"city\": extracted city,\\n    \"city\": extracted country\"\\n    \"address\": extracted address,\\n    \"coordinates\":[extracted  latitude, extracted longitude]\\n}\\n3- Hard Question/current events: you need to provide your response ONLY JSON object as shown:\\n{\\n \"query-type\": \"hard-question\"\\n}\\n\\n')]\n"
     ]
    },
    {
     "name": "stderr",
     "output_type": "stream",
     "text": [
      "INFO:httpx:HTTP Request: POST https://api.groq.com/openai/v1/chat/completions \"HTTP/1.1 200 OK\"\n",
      "INFO:root:STATE at assitant_router:\n",
      "INFO:root:content='{\\n  \"query-type\": \"greeting-general\",\\n  \"response\": \"Hello! How can I assist you today?\"\\n}' response_metadata={'token_usage': {'completion_tokens': 27, 'prompt_tokens': 353, 'total_tokens': 380, 'completion_time': 0.02084447, 'prompt_time': 0.070954073, 'queue_time': None, 'total_time': 0.09179854300000001}, 'model_name': 'llama3-8b-8192', 'system_fingerprint': 'fp_a97cfe35ae', 'finish_reason': 'stop', 'logprobs': None} id='run-91d0353c-317d-4357-9e3b-71b05718e652-0' usage_metadata={'input_tokens': 353, 'output_tokens': 27, 'total_tokens': 380}\n",
      "INFO:root:@assitant_router catch greeting-general\n",
      "INFO:root:entering reviewer node\n",
      "INFO:root:I'm in reviewer router\n",
      "INFO:root:Make sense True at reviewer writer\n"
     ]
    },
    {
     "name": "stdout",
     "output_type": "stream",
     "text": [
      "content='{\\n  \"query-type\": \"greeting-general\",\\n  \"response\": \"Hello! How can I assist you today?\"\\n}' response_metadata={'token_usage': {'completion_tokens': 27, 'prompt_tokens': 353, 'total_tokens': 380, 'completion_time': 0.02084447, 'prompt_time': 0.070954073, 'queue_time': None, 'total_time': 0.09179854300000001}, 'model_name': 'llama3-8b-8192', 'system_fingerprint': 'fp_a97cfe35ae', 'finish_reason': 'stop', 'logprobs': None} id='run-91d0353c-317d-4357-9e3b-71b05718e652-0' usage_metadata={'input_tokens': 353, 'output_tokens': 27, 'total_tokens': 380}\n",
      "agent_message\n"
     ]
    }
   ],
   "source": [
    "thread = {\"configurable\": {\"thread_id\": \"125\"}}\n",
    "\n",
    "\n",
    "human_message = HumanMessage(content=\"Hi\")\n",
    "messages = [human_message]\n",
    "\n",
    "result = runnable.invoke(prepaer_states({\"messages\":messages}), thread)"
   ]
  },
  {
   "cell_type": "code",
   "execution_count": 40,
   "id": "5e6fc72d",
   "metadata": {},
   "outputs": [
    {
     "name": "stderr",
     "output_type": "stream",
     "text": [
      "INFO:root:entering asstiant node\n"
     ]
    },
    {
     "name": "stdout",
     "output_type": "stream",
     "text": [
      "assistent node\n",
      "messages: \n",
      " [HumanMessage(content='do you know who invented the car')]\n",
      "[HumanMessage(content='do you know who invented the car'), SystemMessage(content='\\nAct as an assistant  and answer user queries ONLY if you can \\nUser queries may fall into one of the following categories:\\n1- Greeting/General: Greeting you or answering a general question you can ONLY answer.\\n2- Service Recommendation: Asking for a recommendation for a service or a place to visit, such as I want to drink coffee, I am looking for a Middle Eastern restaurant, or Do you know any close hospital?\\n3- Hard Question: General questions you can\\'t answer, such as: who is the current president of the United States of America? Or any question related to current events happening as you don\\'t have access to the current event happening right now\\nYour response must follow the following JSON  objects based on each category:\\n 1- Greeting/General: you need to provide your response ONLY in a JSON object as shown:\\n {\\n \"query-type\": \"greeting-general\",\\n \"response\": write your response here\\n}\\n2-Service Recommendation: try to extract the service type and the city, country, Address, or Coordinates if mentioned. Your response is ONLY a JSON object. This JSON object must follow the following structure and set false in bool format for the value of the keys that you can\\'t extract.\\n { \\n    \"query-type\": \"serivce-recommendation\",\\n    \"service\": extracted service type, \\n    \"city\": extracted city,\\n    \"city\": extracted country\"\\n    \"address\": extracted address,\\n    \"coordinates\":[extracted  latitude, extracted longitude]\\n}\\n3- Hard Question/current events: you need to provide your response ONLY JSON object as shown:\\n{\\n \"query-type\": \"hard-question\"\\n}\\n\\n')]\n"
     ]
    },
    {
     "name": "stderr",
     "output_type": "stream",
     "text": [
      "INFO:httpx:HTTP Request: POST https://api.groq.com/openai/v1/chat/completions \"HTTP/1.1 200 OK\"\n",
      "INFO:root:STATE at assitant_router:\n",
      "INFO:root:content='{\\n  \"query-type\": \"hard-question\"\\n}' response_metadata={'token_usage': {'completion_tokens': 12, 'prompt_tokens': 359, 'total_tokens': 371, 'completion_time': 0.008791921, 'prompt_time': 0.072233304, 'queue_time': None, 'total_time': 0.08102522499999999}, 'model_name': 'llama3-8b-8192', 'system_fingerprint': 'fp_873a560973', 'finish_reason': 'stop', 'logprobs': None} id='run-1a0786a3-89ed-43c5-ac0e-e2ae9a88c810-0' usage_metadata={'input_tokens': 359, 'output_tokens': 12, 'total_tokens': 371}\n",
      "INFO:root:@assitant_router no catch serivce-recommendation\n"
     ]
    },
    {
     "name": "stdout",
     "output_type": "stream",
     "text": [
      "content='{\\n  \"query-type\": \"hard-question\"\\n}' response_metadata={'token_usage': {'completion_tokens': 12, 'prompt_tokens': 359, 'total_tokens': 371, 'completion_time': 0.008791921, 'prompt_time': 0.072233304, 'queue_time': None, 'total_time': 0.08102522499999999}, 'model_name': 'llama3-8b-8192', 'system_fingerprint': 'fp_873a560973', 'finish_reason': 'stop', 'logprobs': None} id='run-1a0786a3-89ed-43c5-ac0e-e2ae9a88c810-0' usage_metadata={'input_tokens': 359, 'output_tokens': 12, 'total_tokens': 371}\n",
      "agent_message\n",
      "[AIMessage(content='{\\n  \"query-type\": \"hard-question\"\\n}', response_metadata={'token_usage': {'completion_tokens': 12, 'prompt_tokens': 359, 'total_tokens': 371, 'completion_time': 0.008791921, 'prompt_time': 0.072233304, 'queue_time': None, 'total_time': 0.08102522499999999}, 'model_name': 'llama3-8b-8192', 'system_fingerprint': 'fp_873a560973', 'finish_reason': 'stop', 'logprobs': None}, id='run-1a0786a3-89ed-43c5-ac0e-e2ae9a88c810-0', usage_metadata={'input_tokens': 359, 'output_tokens': 12, 'total_tokens': 371})]\n"
     ]
    }
   ],
   "source": [
    "thread = {\"configurable\": {\"thread_id\": \"350\"}}\n",
    "\n",
    "\n",
    "human_message = HumanMessage(content=\"do you know who invented the car\")\n",
    "messages = [human_message]\n",
    "\n",
    "for event in runnable.stream(prepaer_states({\"messages\":messages}), thread):\n",
    "    for v in event.values():\n",
    "        print(v['messages'])"
   ]
  },
  {
   "cell_type": "code",
   "execution_count": 39,
   "id": "a5b73d43",
   "metadata": {},
   "outputs": [
    {
     "name": "stderr",
     "output_type": "stream",
     "text": [
      "INFO:root:entering asstiant node\n",
      "INFO:httpx:HTTP Request: POST https://api.groq.com/openai/v1/chat/completions \"HTTP/1.1 200 OK\"\n",
      "INFO:root:STATE at assitant_router:\n",
      "INFO:root:content='{\\n    \"query-type\": \"service-recommendation\",\\n    \"service\": \"beach\",\\n    \"city\": false,\\n    \"country\": false,\\n    \"address\": false,\\n    \"coordinates\": [false, false]\\n}' response_metadata={'token_usage': {'completion_tokens': 49, 'prompt_tokens': 362, 'total_tokens': 411, 'completion_time': 0.038007151, 'prompt_time': 0.072840718, 'queue_time': None, 'total_time': 0.110847869}, 'model_name': 'llama3-8b-8192', 'system_fingerprint': 'fp_af05557ca2', 'finish_reason': 'stop', 'logprobs': None} id='run-ea2763eb-a709-46e8-9aa3-baa858d7ee46-0' usage_metadata={'input_tokens': 362, 'output_tokens': 49, 'total_tokens': 411}\n",
      "INFO:root:@assitant_router catch serivce-recommendation\n"
     ]
    },
    {
     "name": "stdout",
     "output_type": "stream",
     "text": [
      "content='{\\n    \"query-type\": \"service-recommendation\",\\n    \"service\": \"beach\",\\n    \"city\": false,\\n    \"country\": false,\\n    \"address\": false,\\n    \"coordinates\": [false, false]\\n}' response_metadata={'token_usage': {'completion_tokens': 49, 'prompt_tokens': 362, 'total_tokens': 411, 'completion_time': 0.038007151, 'prompt_time': 0.072840718, 'queue_time': None, 'total_time': 0.110847869}, 'model_name': 'llama3-8b-8192', 'system_fingerprint': 'fp_af05557ca2', 'finish_reason': 'stop', 'logprobs': None} id='run-ea2763eb-a709-46e8-9aa3-baa858d7ee46-0' usage_metadata={'input_tokens': 362, 'output_tokens': 49, 'total_tokens': 411}\n",
      "agent_message\n"
     ]
    },
    {
     "ename": "KeyError",
     "evalue": "'IoT-engine'",
     "output_type": "error",
     "traceback": [
      "\u001b[1;31m---------------------------------------------------------------------------\u001b[0m",
      "\u001b[1;31mKeyError\u001b[0m                                  Traceback (most recent call last)",
      "Cell \u001b[1;32mIn[39], line 7\u001b[0m\n\u001b[0;32m      4\u001b[0m human_message \u001b[38;5;241m=\u001b[39m HumanMessage(content\u001b[38;5;241m=\u001b[39m\u001b[38;5;124m\"\u001b[39m\u001b[38;5;124mcan you suggest a place for my vecation?\u001b[39m\u001b[38;5;124m\"\u001b[39m)\n\u001b[0;32m      5\u001b[0m messages \u001b[38;5;241m=\u001b[39m [system_message, human_message]\n\u001b[1;32m----> 7\u001b[0m result \u001b[38;5;241m=\u001b[39m runnable\u001b[38;5;241m.\u001b[39minvoke({\u001b[38;5;124m\"\u001b[39m\u001b[38;5;124mmessages\u001b[39m\u001b[38;5;124m\"\u001b[39m: messages, \u001b[38;5;124m\"\u001b[39m\u001b[38;5;124mapi_call_count\u001b[39m\u001b[38;5;124m\"\u001b[39m: \u001b[38;5;241m0\u001b[39m})\n",
      "File \u001b[1;32mC:\\anaconda3\\Lib\\site-packages\\langgraph\\pregel\\__init__.py:1299\u001b[0m, in \u001b[0;36mPregel.invoke\u001b[1;34m(self, input, config, stream_mode, output_keys, interrupt_before, interrupt_after, debug, **kwargs)\u001b[0m\n\u001b[0;32m   1297\u001b[0m \u001b[38;5;28;01melse\u001b[39;00m:\n\u001b[0;32m   1298\u001b[0m     chunks \u001b[38;5;241m=\u001b[39m []\n\u001b[1;32m-> 1299\u001b[0m \u001b[38;5;28;01mfor\u001b[39;00m chunk \u001b[38;5;129;01min\u001b[39;00m \u001b[38;5;28mself\u001b[39m\u001b[38;5;241m.\u001b[39mstream(\n\u001b[0;32m   1300\u001b[0m     \u001b[38;5;28minput\u001b[39m,\n\u001b[0;32m   1301\u001b[0m     config,\n\u001b[0;32m   1302\u001b[0m     stream_mode\u001b[38;5;241m=\u001b[39mstream_mode,\n\u001b[0;32m   1303\u001b[0m     output_keys\u001b[38;5;241m=\u001b[39moutput_keys,\n\u001b[0;32m   1304\u001b[0m     interrupt_before\u001b[38;5;241m=\u001b[39minterrupt_before,\n\u001b[0;32m   1305\u001b[0m     interrupt_after\u001b[38;5;241m=\u001b[39minterrupt_after,\n\u001b[0;32m   1306\u001b[0m     debug\u001b[38;5;241m=\u001b[39mdebug,\n\u001b[0;32m   1307\u001b[0m     \u001b[38;5;241m*\u001b[39m\u001b[38;5;241m*\u001b[39mkwargs,\n\u001b[0;32m   1308\u001b[0m ):\n\u001b[0;32m   1309\u001b[0m     \u001b[38;5;28;01mif\u001b[39;00m stream_mode \u001b[38;5;241m==\u001b[39m \u001b[38;5;124m\"\u001b[39m\u001b[38;5;124mvalues\u001b[39m\u001b[38;5;124m\"\u001b[39m:\n\u001b[0;32m   1310\u001b[0m         latest \u001b[38;5;241m=\u001b[39m chunk\n",
      "File \u001b[1;32mC:\\anaconda3\\Lib\\site-packages\\langgraph\\pregel\\__init__.py:984\u001b[0m, in \u001b[0;36mPregel.stream\u001b[1;34m(self, input, config, stream_mode, output_keys, interrupt_before, interrupt_after, debug)\u001b[0m\n\u001b[0;32m    981\u001b[0m         \u001b[38;5;28;01mdel\u001b[39;00m fut, task\n\u001b[0;32m    983\u001b[0m \u001b[38;5;66;03m# panic on failure or timeout\u001b[39;00m\n\u001b[1;32m--> 984\u001b[0m _panic_or_proceed(done, inflight, loop\u001b[38;5;241m.\u001b[39mstep)\n\u001b[0;32m    985\u001b[0m \u001b[38;5;66;03m# don't keep futures around in memory longer than needed\u001b[39;00m\n\u001b[0;32m    986\u001b[0m \u001b[38;5;28;01mdel\u001b[39;00m done, inflight, futures\n",
      "File \u001b[1;32mC:\\anaconda3\\Lib\\site-packages\\langgraph\\pregel\\__init__.py:1385\u001b[0m, in \u001b[0;36m_panic_or_proceed\u001b[1;34m(done, inflight, step, timeout_exc_cls)\u001b[0m\n\u001b[0;32m   1383\u001b[0m             inflight\u001b[38;5;241m.\u001b[39mpop()\u001b[38;5;241m.\u001b[39mcancel()\n\u001b[0;32m   1384\u001b[0m         \u001b[38;5;66;03m# raise the exception\u001b[39;00m\n\u001b[1;32m-> 1385\u001b[0m         \u001b[38;5;28;01mraise\u001b[39;00m exc\n\u001b[0;32m   1387\u001b[0m \u001b[38;5;28;01mif\u001b[39;00m inflight:\n\u001b[0;32m   1388\u001b[0m     \u001b[38;5;66;03m# if we got here means we timed out\u001b[39;00m\n\u001b[0;32m   1389\u001b[0m     \u001b[38;5;28;01mwhile\u001b[39;00m inflight:\n\u001b[0;32m   1390\u001b[0m         \u001b[38;5;66;03m# cancel all pending tasks\u001b[39;00m\n",
      "File \u001b[1;32mC:\\anaconda3\\Lib\\site-packages\\langgraph\\pregel\\executor.py:60\u001b[0m, in \u001b[0;36mBackgroundExecutor.done\u001b[1;34m(self, task)\u001b[0m\n\u001b[0;32m     58\u001b[0m \u001b[38;5;28;01mdef\u001b[39;00m \u001b[38;5;21mdone\u001b[39m(\u001b[38;5;28mself\u001b[39m, task: concurrent\u001b[38;5;241m.\u001b[39mfutures\u001b[38;5;241m.\u001b[39mFuture) \u001b[38;5;241m-\u001b[39m\u001b[38;5;241m>\u001b[39m \u001b[38;5;28;01mNone\u001b[39;00m:\n\u001b[0;32m     59\u001b[0m     \u001b[38;5;28;01mtry\u001b[39;00m:\n\u001b[1;32m---> 60\u001b[0m         task\u001b[38;5;241m.\u001b[39mresult()\n\u001b[0;32m     61\u001b[0m     \u001b[38;5;28;01mexcept\u001b[39;00m GraphInterrupt:\n\u001b[0;32m     62\u001b[0m         \u001b[38;5;66;03m# This exception is an interruption signal, not an error\u001b[39;00m\n\u001b[0;32m     63\u001b[0m         \u001b[38;5;66;03m# so we don't want to re-raise it on exit\u001b[39;00m\n\u001b[0;32m     64\u001b[0m         \u001b[38;5;28mself\u001b[39m\u001b[38;5;241m.\u001b[39mtasks\u001b[38;5;241m.\u001b[39mpop(task)\n",
      "File \u001b[1;32mC:\\anaconda3\\Lib\\concurrent\\futures\\_base.py:449\u001b[0m, in \u001b[0;36mFuture.result\u001b[1;34m(self, timeout)\u001b[0m\n\u001b[0;32m    447\u001b[0m     \u001b[38;5;28;01mraise\u001b[39;00m CancelledError()\n\u001b[0;32m    448\u001b[0m \u001b[38;5;28;01melif\u001b[39;00m \u001b[38;5;28mself\u001b[39m\u001b[38;5;241m.\u001b[39m_state \u001b[38;5;241m==\u001b[39m FINISHED:\n\u001b[1;32m--> 449\u001b[0m     \u001b[38;5;28;01mreturn\u001b[39;00m \u001b[38;5;28mself\u001b[39m\u001b[38;5;241m.\u001b[39m__get_result()\n\u001b[0;32m    451\u001b[0m \u001b[38;5;28mself\u001b[39m\u001b[38;5;241m.\u001b[39m_condition\u001b[38;5;241m.\u001b[39mwait(timeout)\n\u001b[0;32m    453\u001b[0m \u001b[38;5;28;01mif\u001b[39;00m \u001b[38;5;28mself\u001b[39m\u001b[38;5;241m.\u001b[39m_state \u001b[38;5;129;01min\u001b[39;00m [CANCELLED, CANCELLED_AND_NOTIFIED]:\n",
      "File \u001b[1;32mC:\\anaconda3\\Lib\\concurrent\\futures\\_base.py:401\u001b[0m, in \u001b[0;36mFuture.__get_result\u001b[1;34m(self)\u001b[0m\n\u001b[0;32m    399\u001b[0m \u001b[38;5;28;01mif\u001b[39;00m \u001b[38;5;28mself\u001b[39m\u001b[38;5;241m.\u001b[39m_exception:\n\u001b[0;32m    400\u001b[0m     \u001b[38;5;28;01mtry\u001b[39;00m:\n\u001b[1;32m--> 401\u001b[0m         \u001b[38;5;28;01mraise\u001b[39;00m \u001b[38;5;28mself\u001b[39m\u001b[38;5;241m.\u001b[39m_exception\n\u001b[0;32m    402\u001b[0m     \u001b[38;5;28;01mfinally\u001b[39;00m:\n\u001b[0;32m    403\u001b[0m         \u001b[38;5;66;03m# Break a reference cycle with the exception in self._exception\u001b[39;00m\n\u001b[0;32m    404\u001b[0m         \u001b[38;5;28mself\u001b[39m \u001b[38;5;241m=\u001b[39m \u001b[38;5;28;01mNone\u001b[39;00m\n",
      "File \u001b[1;32mC:\\anaconda3\\Lib\\concurrent\\futures\\thread.py:58\u001b[0m, in \u001b[0;36m_WorkItem.run\u001b[1;34m(self)\u001b[0m\n\u001b[0;32m     55\u001b[0m     \u001b[38;5;28;01mreturn\u001b[39;00m\n\u001b[0;32m     57\u001b[0m \u001b[38;5;28;01mtry\u001b[39;00m:\n\u001b[1;32m---> 58\u001b[0m     result \u001b[38;5;241m=\u001b[39m \u001b[38;5;28mself\u001b[39m\u001b[38;5;241m.\u001b[39mfn(\u001b[38;5;241m*\u001b[39m\u001b[38;5;28mself\u001b[39m\u001b[38;5;241m.\u001b[39margs, \u001b[38;5;241m*\u001b[39m\u001b[38;5;241m*\u001b[39m\u001b[38;5;28mself\u001b[39m\u001b[38;5;241m.\u001b[39mkwargs)\n\u001b[0;32m     59\u001b[0m \u001b[38;5;28;01mexcept\u001b[39;00m \u001b[38;5;167;01mBaseException\u001b[39;00m \u001b[38;5;28;01mas\u001b[39;00m exc:\n\u001b[0;32m     60\u001b[0m     \u001b[38;5;28mself\u001b[39m\u001b[38;5;241m.\u001b[39mfuture\u001b[38;5;241m.\u001b[39mset_exception(exc)\n",
      "File \u001b[1;32mC:\\anaconda3\\Lib\\site-packages\\langgraph\\pregel\\retry.py:25\u001b[0m, in \u001b[0;36mrun_with_retry\u001b[1;34m(task, retry_policy)\u001b[0m\n\u001b[0;32m     23\u001b[0m task\u001b[38;5;241m.\u001b[39mwrites\u001b[38;5;241m.\u001b[39mclear()\n\u001b[0;32m     24\u001b[0m \u001b[38;5;66;03m# run the task\u001b[39;00m\n\u001b[1;32m---> 25\u001b[0m task\u001b[38;5;241m.\u001b[39mproc\u001b[38;5;241m.\u001b[39minvoke(task\u001b[38;5;241m.\u001b[39minput, task\u001b[38;5;241m.\u001b[39mconfig)\n\u001b[0;32m     26\u001b[0m \u001b[38;5;66;03m# if successful, end\u001b[39;00m\n\u001b[0;32m     27\u001b[0m \u001b[38;5;28;01mbreak\u001b[39;00m\n",
      "File \u001b[1;32mC:\\anaconda3\\Lib\\site-packages\\langchain_core\\runnables\\base.py:2875\u001b[0m, in \u001b[0;36mRunnableSequence.invoke\u001b[1;34m(self, input, config, **kwargs)\u001b[0m\n\u001b[0;32m   2873\u001b[0m             \u001b[38;5;28minput\u001b[39m \u001b[38;5;241m=\u001b[39m step\u001b[38;5;241m.\u001b[39minvoke(\u001b[38;5;28minput\u001b[39m, config, \u001b[38;5;241m*\u001b[39m\u001b[38;5;241m*\u001b[39mkwargs)\n\u001b[0;32m   2874\u001b[0m         \u001b[38;5;28;01melse\u001b[39;00m:\n\u001b[1;32m-> 2875\u001b[0m             \u001b[38;5;28minput\u001b[39m \u001b[38;5;241m=\u001b[39m step\u001b[38;5;241m.\u001b[39minvoke(\u001b[38;5;28minput\u001b[39m, config)\n\u001b[0;32m   2876\u001b[0m \u001b[38;5;66;03m# finish the root run\u001b[39;00m\n\u001b[0;32m   2877\u001b[0m \u001b[38;5;28;01mexcept\u001b[39;00m \u001b[38;5;167;01mBaseException\u001b[39;00m \u001b[38;5;28;01mas\u001b[39;00m e:\n",
      "File \u001b[1;32mC:\\anaconda3\\Lib\\site-packages\\langgraph\\utils.py:102\u001b[0m, in \u001b[0;36mRunnableCallable.invoke\u001b[1;34m(self, input, config, **kwargs)\u001b[0m\n\u001b[0;32m    100\u001b[0m     \u001b[38;5;28;01mif\u001b[39;00m accepts_config(\u001b[38;5;28mself\u001b[39m\u001b[38;5;241m.\u001b[39mfunc):\n\u001b[0;32m    101\u001b[0m         kwargs[\u001b[38;5;124m\"\u001b[39m\u001b[38;5;124mconfig\u001b[39m\u001b[38;5;124m\"\u001b[39m] \u001b[38;5;241m=\u001b[39m config\n\u001b[1;32m--> 102\u001b[0m     ret \u001b[38;5;241m=\u001b[39m context\u001b[38;5;241m.\u001b[39mrun(\u001b[38;5;28mself\u001b[39m\u001b[38;5;241m.\u001b[39mfunc, \u001b[38;5;28minput\u001b[39m, \u001b[38;5;241m*\u001b[39m\u001b[38;5;241m*\u001b[39mkwargs)\n\u001b[0;32m    103\u001b[0m \u001b[38;5;28;01mif\u001b[39;00m \u001b[38;5;28misinstance\u001b[39m(ret, Runnable) \u001b[38;5;129;01mand\u001b[39;00m \u001b[38;5;28mself\u001b[39m\u001b[38;5;241m.\u001b[39mrecurse:\n\u001b[0;32m    104\u001b[0m     \u001b[38;5;28;01mreturn\u001b[39;00m ret\u001b[38;5;241m.\u001b[39minvoke(\u001b[38;5;28minput\u001b[39m, config)\n",
      "File \u001b[1;32mC:\\anaconda3\\Lib\\site-packages\\langgraph\\graph\\graph.py:88\u001b[0m, in \u001b[0;36mBranch._route\u001b[1;34m(self, input, config, reader, writer)\u001b[0m\n\u001b[0;32m     86\u001b[0m     value \u001b[38;5;241m=\u001b[39m \u001b[38;5;28minput\u001b[39m\n\u001b[0;32m     87\u001b[0m result \u001b[38;5;241m=\u001b[39m \u001b[38;5;28mself\u001b[39m\u001b[38;5;241m.\u001b[39mpath\u001b[38;5;241m.\u001b[39minvoke(value, config)\n\u001b[1;32m---> 88\u001b[0m \u001b[38;5;28;01mreturn\u001b[39;00m \u001b[38;5;28mself\u001b[39m\u001b[38;5;241m.\u001b[39m_finish(writer, \u001b[38;5;28minput\u001b[39m, result)\n",
      "File \u001b[1;32mC:\\anaconda3\\Lib\\site-packages\\langgraph\\graph\\graph.py:115\u001b[0m, in \u001b[0;36mBranch._finish\u001b[1;34m(self, writer, input, result)\u001b[0m\n\u001b[0;32m    113\u001b[0m     result \u001b[38;5;241m=\u001b[39m [result]\n\u001b[0;32m    114\u001b[0m \u001b[38;5;28;01mif\u001b[39;00m \u001b[38;5;28mself\u001b[39m\u001b[38;5;241m.\u001b[39mends:\n\u001b[1;32m--> 115\u001b[0m     destinations \u001b[38;5;241m=\u001b[39m [r \u001b[38;5;28;01mif\u001b[39;00m \u001b[38;5;28misinstance\u001b[39m(r, Send) \u001b[38;5;28;01melse\u001b[39;00m \u001b[38;5;28mself\u001b[39m\u001b[38;5;241m.\u001b[39mends[r] \u001b[38;5;28;01mfor\u001b[39;00m r \u001b[38;5;129;01min\u001b[39;00m result]\n\u001b[0;32m    116\u001b[0m \u001b[38;5;28;01melse\u001b[39;00m:\n\u001b[0;32m    117\u001b[0m     destinations \u001b[38;5;241m=\u001b[39m result\n",
      "File \u001b[1;32mC:\\anaconda3\\Lib\\site-packages\\langgraph\\graph\\graph.py:115\u001b[0m, in \u001b[0;36m<listcomp>\u001b[1;34m(.0)\u001b[0m\n\u001b[0;32m    113\u001b[0m     result \u001b[38;5;241m=\u001b[39m [result]\n\u001b[0;32m    114\u001b[0m \u001b[38;5;28;01mif\u001b[39;00m \u001b[38;5;28mself\u001b[39m\u001b[38;5;241m.\u001b[39mends:\n\u001b[1;32m--> 115\u001b[0m     destinations \u001b[38;5;241m=\u001b[39m [r \u001b[38;5;28;01mif\u001b[39;00m \u001b[38;5;28misinstance\u001b[39m(r, Send) \u001b[38;5;28;01melse\u001b[39;00m \u001b[38;5;28mself\u001b[39m\u001b[38;5;241m.\u001b[39mends[r] \u001b[38;5;28;01mfor\u001b[39;00m r \u001b[38;5;129;01min\u001b[39;00m result]\n\u001b[0;32m    116\u001b[0m \u001b[38;5;28;01melse\u001b[39;00m:\n\u001b[0;32m    117\u001b[0m     destinations \u001b[38;5;241m=\u001b[39m result\n",
      "\u001b[1;31mKeyError\u001b[0m: 'IoT-engine'"
     ]
    }
   ],
   "source": [
    "from langchain_core.messages import SystemMessage\n",
    "\n",
    "system_message = SystemMessage(content=assistant_prompt)\n",
    "human_message = HumanMessage(content=\"can you suggest a place for my vecation?\")\n",
    "messages = [system_message, human_message]\n",
    "\n",
    "result = runnable.invoke({\"messages\": messages, \"api_call_count\": 0})"
   ]
  },
  {
   "cell_type": "code",
   "execution_count": 10,
   "id": "32364524",
   "metadata": {},
   "outputs": [
    {
     "data": {
      "text/plain": [
       "{'messages': [SystemMessage(content='\\nAct as an assistant  and answer user queries ONLY if you can \\nUser queries may fall into one of the following categories:\\n1- Greeting/General: Greeting you or answering a general question you can ONLY answer.\\n2- Service Recommendation: Asking for a recommendation for a service or a place to visit, such as I want to drink coffee, I am looking for a Middle Eastern restaurant, or Do you know any close hospital?\\n3- Hard Question: General questions you can\\'t answer, such as: who is the current president of the United States of America? Or any question related to current events happening as you don\\'t have access to the current event happening right now\\nYour response must follow the following JSON  objects based on each category:\\n 1- Greeting/General: you need to provide your response ONLY in a JSON object as shown:\\n {\\n \"query-type\": \"greeting-general\",\\n \"response\": write your response here\\n}\\n2-Service Recommendation: try to extract the service type and the city, country, Address, or Coordinates if mentioned. Your response is ONLY a JSON object. This JSON object must follow the following structure and set false in bool format for the value of the keys that you can\\'t extract.\\n { \\n    \"query-type\": \"serivce-recommendation\",\\n    \"service\": extracted service type, \\n    \"city\": extracted city,\\n    \"city\": extracted country\"\\n    \"address\": extracted address,\\n    \"coordinates\":[extracted  latitude, extracted longitude]\\n}\\n3- Hard Question/current events: you need to provide your response ONLY JSON object as shown:\\n{\\n \"query-type\": \"hard-question\"\\n}\\n\\n'),\n",
       "  HumanMessage(content='who is the current president of Egypt'),\n",
       "  AIMessage(content='{\\n  \"query-type\": \"hard-question\"\\n}', response_metadata={'token_usage': {'completion_tokens': 12, 'prompt_tokens': 359, 'total_tokens': 371, 'completion_time': 0.009028856, 'prompt_time': 0.054802958, 'queue_time': None, 'total_time': 0.063831814}, 'model_name': 'llama3-8b-8192', 'system_fingerprint': 'fp_6a6771ae9c', 'finish_reason': 'stop', 'logprobs': None}, id='run-85c0a18f-7d9d-4c62-8117-6c815e11b26e-0', usage_metadata={'input_tokens': 359, 'output_tokens': 12, 'total_tokens': 371}),\n",
       "  SystemMessage(content='{\\'title\\': \\'List of presidents of Egypt - Wikipedia\\', \\'url\\': \\'https://en.wikipedia.org/wiki/List_of_presidents_of_Egypt\\', \\'content\\': \"Following Hosni Mubarak\\'s resignation on 11 February 2011[1] in the Egyptian Revolution of 2011, the office was vacant, with the functions of head of state and head of government being discharged by the chairman of the Supreme Council of the Armed Forces, Field Marshal Muhammad Tantawi.[2]\\\\nMohamed Morsi took office on 30 June 2012, after being elected by the presidential election held on 23–24 May and 16–17 June 2012.[3] Background[edit]\\\\nThe first president of Egypt was Mohamed Naguib, one of the leaders of the Free Officers Movement who led the Egyptian Revolution of 1952, and who took office on 18 June 1953, the day on which Egypt was declared a republic. He was deposed by the Egyptian Armed Forces in a coup d\\'état on 3 July 2013, following massive protests calling for his resignation.[4] He was succeeded by Adly Mansour, the head of the Supreme Constitutional Court of Egypt, as Acting President. Mansour was sworn into office in front of the Supreme Constitutional Court on 4 July 2013.[5]\\\\nCurrent President el-Sisi took office on 8 June 2014, after being elected by the presidential election held on 26–28 May 2014.[6] Contents\\\\nList of presidents of Egypt\\\\nMember State of the African Union\\\\nMember State of the Arab League\\\\n\", \\'score\\': 0.99707645, \\'raw_content\\': None}'),\n",
       "  None,\n",
       "  HumanMessage(content='Hi how are You? How I can help you')],\n",
       " 'handled': [None, None, None, True, None, True],\n",
       " 'make_sense': [None, None, None, None, None, True],\n",
       " 'node': [None, None, 'assistant_agent', 'scrapper', 'generator-agent', None]}"
      ]
     },
     "execution_count": 10,
     "metadata": {},
     "output_type": "execute_result"
    }
   ],
   "source": [
    "result"
   ]
  },
  {
   "cell_type": "code",
   "execution_count": 11,
   "id": "458c1af5",
   "metadata": {},
   "outputs": [
    {
     "name": "stderr",
     "output_type": "stream",
     "text": [
      "INFO:numexpr.utils:NumExpr defaulting to 8 threads.\n"
     ]
    },
    {
     "data": {
      "text/html": [
       "<div>\n",
       "<style scoped>\n",
       "    .dataframe tbody tr th:only-of-type {\n",
       "        vertical-align: middle;\n",
       "    }\n",
       "\n",
       "    .dataframe tbody tr th {\n",
       "        vertical-align: top;\n",
       "    }\n",
       "\n",
       "    .dataframe thead th {\n",
       "        text-align: right;\n",
       "    }\n",
       "</style>\n",
       "<table border=\"1\" class=\"dataframe\">\n",
       "  <thead>\n",
       "    <tr style=\"text-align: right;\">\n",
       "      <th></th>\n",
       "      <th>messages</th>\n",
       "      <th>handled</th>\n",
       "      <th>make_sense</th>\n",
       "      <th>node</th>\n",
       "    </tr>\n",
       "  </thead>\n",
       "  <tbody>\n",
       "    <tr>\n",
       "      <th>0</th>\n",
       "      <td>content='\\nAct as an assistant  and answer use...</td>\n",
       "      <td>None</td>\n",
       "      <td>None</td>\n",
       "      <td>None</td>\n",
       "    </tr>\n",
       "    <tr>\n",
       "      <th>1</th>\n",
       "      <td>content='who is the current president of Egypt'</td>\n",
       "      <td>None</td>\n",
       "      <td>None</td>\n",
       "      <td>None</td>\n",
       "    </tr>\n",
       "    <tr>\n",
       "      <th>2</th>\n",
       "      <td>content='{\\n  \"query-type\": \"hard-question\"\\n}...</td>\n",
       "      <td>None</td>\n",
       "      <td>None</td>\n",
       "      <td>assistant_agent</td>\n",
       "    </tr>\n",
       "    <tr>\n",
       "      <th>3</th>\n",
       "      <td>content='{\\'title\\': \\'List of presidents of E...</td>\n",
       "      <td>True</td>\n",
       "      <td>None</td>\n",
       "      <td>scrapper</td>\n",
       "    </tr>\n",
       "    <tr>\n",
       "      <th>4</th>\n",
       "      <td>None</td>\n",
       "      <td>None</td>\n",
       "      <td>None</td>\n",
       "      <td>generator-agent</td>\n",
       "    </tr>\n",
       "  </tbody>\n",
       "</table>\n",
       "</div>"
      ],
      "text/plain": [
       "                                            messages handled make_sense  \\\n",
       "0  content='\\nAct as an assistant  and answer use...    None       None   \n",
       "1    content='who is the current president of Egypt'    None       None   \n",
       "2  content='{\\n  \"query-type\": \"hard-question\"\\n}...    None       None   \n",
       "3  content='{\\'title\\': \\'List of presidents of E...    True       None   \n",
       "4                                               None    None       None   \n",
       "\n",
       "              node  \n",
       "0             None  \n",
       "1             None  \n",
       "2  assistant_agent  \n",
       "3         scrapper  \n",
       "4  generator-agent  "
      ]
     },
     "execution_count": 11,
     "metadata": {},
     "output_type": "execute_result"
    }
   ],
   "source": [
    "import pandas as pd\n",
    "df=pd.DataFrame(result)\n",
    "df.head()"
   ]
  },
  {
   "cell_type": "code",
   "execution_count": 34,
   "id": "26b0a79d",
   "metadata": {},
   "outputs": [
    {
     "data": {
      "text/plain": [
       "{'messages': [SystemMessage(content='\\nAct as an assistant  and answer user queries ONLY if you can \\nUser queries may fall into one of the following categories:\\n1- Greeting/General: Greeting you or answering a general question you can ONLY answer.\\n2- Service Recommendation: Asking for a recommendation for a service or a place to visit, such as I want to drink coffee, I am looking for a Middle Eastern restaurant, or Do you know any close hospital?\\n3- Hard Question: General questions you can\\'t answer, such as: who is the current president of the United States of America? Or any question related to current events happening as you don\\'t have access to the current event happening right now\\nYour response must follow the following JSON  objects based on each category:\\n 1- Greeting/General: you need to provide your response ONLY in a JSON object as shown:\\n {\\n \"query-type\": \"greeting-general\",\\n \"response\": write your response here\\n}\\n2-Service Recommendation: try to extract the service type and the city, country, Address, or Coordinates if mentioned. Your response is ONLY a JSON object. This JSON object must follow the following structure and set false in bool format for the value of the keys that you can\\'t extract.\\n { \\n    \"query-type\": \"serivce-recommendation\",\\n    \"service\": extracted service type, \\n    \"city\": extracted city,\\n    \"city\": extracted country\"\\n    \"address\": extracted address,\\n    \"coordinates\":[extracted  latitude, extracted longitude]\\n}\\n3- Hard Question/current events: you need to provide your response ONLY JSON object as shown:\\n{\\n \"query-type\": \"hard-question\"\\n}\\n\\n'),\n",
       "  HumanMessage(content='who is the current president of Egypt'),\n",
       "  AIMessage(content='{\\n  \"query-type\": \"hard-question\"\\n}', response_metadata={'token_usage': {'completion_tokens': 12, 'prompt_tokens': 359, 'total_tokens': 371, 'completion_time': 0.008820359, 'prompt_time': 0.054854423, 'queue_time': None, 'total_time': 0.063674782}, 'model_name': 'llama3-8b-8192', 'system_fingerprint': 'fp_a97cfe35ae', 'finish_reason': 'stop', 'logprobs': None}, id='run-e6734c34-17d5-4738-af0d-31a4de8517df-0', usage_metadata={'input_tokens': 359, 'output_tokens': 12, 'total_tokens': 371}),\n",
       "  SystemMessage(content='{\\'title\\': \\'List of presidents of Egypt - Wikipedia\\', \\'url\\': \\'https://en.wikipedia.org/wiki/List_of_presidents_of_Egypt\\', \\'content\\': \"Following Hosni Mubarak\\'s resignation on 11 February 2011[1] in the Egyptian Revolution of 2011, the office was vacant, with the functions of head of state and head of government being discharged by the chairman of the Supreme Council of the Armed Forces, Field Marshal Muhammad Tantawi.[2]\\\\nMohamed Morsi took office on 30 June 2012, after being elected by the presidential election held on 23–24 May and 16–17 June 2012.[3] Background[edit]\\\\nThe first president of Egypt was Mohamed Naguib, one of the leaders of the Free Officers Movement who led the Egyptian Revolution of 1952, and who took office on 18 June 1953, the day on which Egypt was declared a republic. He was deposed by the Egyptian Armed Forces in a coup d\\'état on 3 July 2013, following massive protests calling for his resignation.[4] He was succeeded by Adly Mansour, the head of the Supreme Constitutional Court of Egypt, as Acting President. Mansour was sworn into office in front of the Supreme Constitutional Court on 4 July 2013.[5]\\\\nCurrent President el-Sisi took office on 8 June 2014, after being elected by the presidential election held on 26–28 May 2014.[6] Contents\\\\nList of presidents of Egypt\\\\nMember State of the African Union\\\\nMember State of the Arab League\\\\n\", \\'score\\': 0.99707645, \\'raw_content\\': None}'),\n",
       "  None,\n",
       "  HumanMessage(content='Hi how are You? How I can help you')],\n",
       " 'handled': [None, None, None, True, None, True],\n",
       " 'make_sense': [None, None, None, None, None, True],\n",
       " 'node': [None, None, 'assistant_agent', 'scrapper', 'generator-agent', None]}"
      ]
     },
     "execution_count": 34,
     "metadata": {},
     "output_type": "execute_result"
    }
   ],
   "source": [
    "result"
   ]
  },
  {
   "cell_type": "code",
   "execution_count": null,
   "id": "2bdc3120",
   "metadata": {},
   "outputs": [],
   "source": []
  }
 ],
 "metadata": {
  "kernelspec": {
   "display_name": "Python 3 (ipykernel)",
   "language": "python",
   "name": "python3"
  },
  "language_info": {
   "codemirror_mode": {
    "name": "ipython",
    "version": 3
   },
   "file_extension": ".py",
   "mimetype": "text/x-python",
   "name": "python",
   "nbconvert_exporter": "python",
   "pygments_lexer": "ipython3",
   "version": "3.11.5"
  }
 },
 "nbformat": 4,
 "nbformat_minor": 5
}
