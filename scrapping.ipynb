{
 "cells": [
  {
   "cell_type": "code",
   "execution_count": 17,
   "id": "ea33573e",
   "metadata": {},
   "outputs": [],
   "source": [
    "from splinter import Browser\n",
    "from bs4 import BeautifulSoup\n",
    "driver=Browser('chrome')\n",
    "\n",
    "\n",
    "# Initialize the Chrome driver\n",
    "driver = webdriver.Chrome()\n",
    "\n",
    "# Open Google Maps\n",
    "driver.get(\"https://www.google.com/maps\")\n",
    "\n",
    "# Wait for the page to load completely\n",
    "time.sleep(5)\n",
    "\n",
    "# Locate the search input field using its name attribute\n",
    "search_input = driver.find_element(By.ID, \"searchboxinput\")\n",
    "\n",
    "# Write some text into the search input field\n",
    "search_input.send_keys(\"Tim Hortons New York City\")\n",
    "search_input.send_keys(Keys.ENTER)\n",
    "\n",
    "# Wait for a few seconds to see the results\n",
    "# time.sleep(5)\n",
    "\n",
    "# Close the browser\n",
    "# driver.quit()\n"
   ]
  },
  {
   "cell_type": "code",
   "execution_count": null,
   "id": "c0128307",
   "metadata": {},
   "outputs": [],
   "source": [
    "# Collect the results\n",
    "# Locate the list of services on the left side\n",
    "services = driver.find_elements(By.CLASS_NAME, 'hfpxzc')  # You'll need to find the appropriate class name\n",
    "\n",
    "# Extract and print the services\n",
    "for service in services:\n",
    "    print(service)\n"
   ]
  },
  {
   "cell_type": "code",
   "execution_count": 21,
   "id": "3d2a48d2",
   "metadata": {},
   "outputs": [
    {
     "ename": "NameError",
     "evalue": "name 'WebDriverWait' is not defined",
     "output_type": "error",
     "traceback": [
      "\u001b[1;31m---------------------------------------------------------------------------\u001b[0m",
      "\u001b[1;31mNameError\u001b[0m                                 Traceback (most recent call last)",
      "Cell \u001b[1;32mIn[21], line 25\u001b[0m\n\u001b[0;32m     22\u001b[0m time\u001b[38;5;241m.\u001b[39msleep(\u001b[38;5;241m5\u001b[39m)\n\u001b[0;32m     24\u001b[0m \u001b[38;5;66;03m# Use WebDriverWait to wait until the element with aria-label containing \"Results for\" is present\u001b[39;00m\n\u001b[1;32m---> 25\u001b[0m WebDriverWait(browser\u001b[38;5;241m.\u001b[39mdriver, \u001b[38;5;241m10\u001b[39m)\u001b[38;5;241m.\u001b[39muntil(\n\u001b[0;32m     26\u001b[0m     EC\u001b[38;5;241m.\u001b[39mpresence_of_element_located((By\u001b[38;5;241m.\u001b[39mXPATH, \u001b[38;5;124m'\u001b[39m\u001b[38;5;124m//*[contains(@aria-label, \u001b[39m\u001b[38;5;124m\"\u001b[39m\u001b[38;5;124mResults for\u001b[39m\u001b[38;5;124m\"\u001b[39m\u001b[38;5;124m)]\u001b[39m\u001b[38;5;124m'\u001b[39m))\n\u001b[0;32m     27\u001b[0m )\n\u001b[0;32m     29\u001b[0m \u001b[38;5;66;03m# Extract the page source\u001b[39;00m\n\u001b[0;32m     30\u001b[0m html \u001b[38;5;241m=\u001b[39m browser\u001b[38;5;241m.\u001b[39mhtml\n",
      "\u001b[1;31mNameError\u001b[0m: name 'WebDriverWait' is not defined"
     ]
    }
   ],
   "source": [
    "from splinter import Browser\n",
    "from bs4 import BeautifulSoup\n",
    "import time\n",
    "import json\n",
    "\n",
    "# Initialize the Chrome driver\n",
    "with Browser('chrome') as browser:\n",
    "    # Open Google Maps\n",
    "    browser.visit(\"https://www.google.com/maps\")\n",
    "    \n",
    "    # Wait for the page to load completely\n",
    "    time.sleep(5)\n",
    "    \n",
    "    # Locate the search input field using its name attribute\n",
    "    search_input = browser.find_by_id(\"searchboxinput\").first\n",
    "    \n",
    "    # Write some text into the search input field\n",
    "    search_input.fill(\"Tim Hortons New York City\")\n",
    "    search_input.type(Keys.ENTER)\n",
    "    \n",
    "    # Wait for the results to load\n",
    "    time.sleep(5)\n",
    "    \n",
    "    # Use WebDriverWait to wait until the element with aria-label containing \"Results for\" is present\n",
    "    WebDriverWait(browser.driver, 10).until(\n",
    "        EC.presence_of_element_located((By.XPATH, '//*[contains(@aria-label, \"Results for\")]'))\n",
    "    )\n",
    "    \n",
    "    # Extract the page source\n",
    "    html = browser.html\n",
    "    \n",
    "    # Parse the page source with BeautifulSoup\n",
    "    soup = BeautifulSoup(html, 'html.parser')\n",
    "    \n",
    "    # Initialize a list to hold the services data\n",
    "    services_data = []\n",
    "    \n",
    "    # Locate the search results container by aria-label containing \"Results for\"\n",
    "    results_containers = soup.find_all('div', attrs={'aria-label': lambda x: x and x.startswith('Results for')})\n",
    "    \n",
    "    for results_container in results_containers:\n",
    "        results = results_container.find_all('div', class_='section-result')\n",
    "        \n",
    "        # Loop through the search results\n",
    "        for result in results:\n",
    "            service = {}\n",
    "            name = result.find('h3', class_='section-result-title')\n",
    "            if name:\n",
    "                service['name'] = name.text.strip()\n",
    "            \n",
    "            address = result.find('span', class_='section-result-location')\n",
    "            if address:\n",
    "                service['address'] = address.text.strip()\n",
    "            \n",
    "            rating = result.find('span', class_='cards-rating-score')\n",
    "            if rating:\n",
    "                service['rating'] = rating.text.strip()\n",
    "            \n",
    "            if service:\n",
    "                services_data.append(service)\n",
    "    \n",
    "    # Save the services data to a JSON file\n",
    "    with open('services_data.json', 'w') as f:\n",
    "        json.dump(services_data, f, indent=4)\n",
    "\n",
    "# Notify user that the script has finished\n",
    "print(\"Services data has been saved to services_data.json\")\n"
   ]
  },
  {
   "cell_type": "code",
   "execution_count": 19,
   "id": "f22da4fc",
   "metadata": {},
   "outputs": [
    {
     "name": "stdout",
     "output_type": "stream",
     "text": [
      "[]\n"
     ]
    }
   ],
   "source": [
    "print(services_data)"
   ]
  },
  {
   "cell_type": "code",
   "execution_count": 23,
   "id": "6ac0cc8f",
   "metadata": {},
   "outputs": [
    {
     "name": "stdout",
     "output_type": "stream",
     "text": [
      "[<div aria-label=\"Results for Tim Hortons New York City\" class=\"m6QErb DxyBCb kA9KIf dS8AEf XiKgde ecceSd\" role=\"feed\" style=\"\" tabindex=\"-1\"><div class=\"m6QErb XiKgde z7i0C\" style=\"\"><div aria-label=\"Available filters for this search\" aria-roledescription=\"carousel\" class=\"fp2VUc\" jsaction=\"keydown:pane.wfvdle26.navigate; mousedown:pane.wfvdle26.dragCards; mousewheel:pane.wfvdle26.navigate wheel:pane.wfvdle26.navigate; DOMMouseScroll:pane.wfvdle26.navigate; focus:pane.wfvdle26.focus; mousemove:pane.wfvdle26.focus\" jslog=\"127728;\" role=\"region\"><div jslog=\"127734; track:click;\"></div><div class=\"rHNip cRLbXd\" style=\"min-height: 0px;\"><div class=\"GXRbod\" style=\"width: 4px;\"></div><div class=\"dryRY\"><div class=\"KNfEk siaXSd ODcthf\"><button aria-haspopup=\"dialog\" aria-label=\"Hours\" class=\"e2moi\" jsaction=\"pane.wfvdle27;keydown:ripple.play;mousedown:ripple.play;ptrdown:ripple.play\" jslog=\"8402; track:click;\"><div class=\"tXNTee L6Bbsd VbYL9\"><div class=\"OyjIsf\"></div><span class=\"uEubGf fontTitleSmall\">Hours</span><span aria-hidden=\"true\" class=\"drGLxe google-symbols\" style=\"font-size: 24px;\"></span></div></button></div><div class=\"ODcthf\"><button aria-label=\"All filters\" class=\"e2moi\" jsaction=\"pane.wfvdle28;keydown:ripple.play;mousedown:ripple.play;ptrdown:ripple.play\" jslog=\"37790; track:click;\"><div class=\"tXNTee L6Bbsd VbYL9\"><div class=\"OyjIsf\"></div><span aria-hidden=\"true\" class=\"k48Abe google-symbols\" style=\"font-size: 18px;\"></span><span class=\"uEubGf fontTitleSmall\">All filters</span></div></button></div></div><div class=\"GXRbod\" style=\"width: 0px;\"></div></div><div jslog=\"127730; track:click;\"></div><div class=\"TSAyb\"></div></div></div><div class=\"JrN27d SuV3fd Zjt37e TGiyyc\"><div class=\"MFHMle y2jPs\"></div><div class=\"Ntshyc\"><div class=\"L1xEbb\"><h1 class=\"fontTitleLarge IFMGgb\">Results</h1><div class=\"whqM4e\"><div class=\"iwhWtc x9tric\" data-callout-id=\"ucc-0\" jslog=\"151371; track:click;\"><div class=\"PSwX3c\"></div><div class=\"zXYuJe Rot3te\"><span class=\"VfPpkd-suEOdc-sM5MNb-OWXEXe-nzrxxc\"><div class=\"VfPpkd-dgl2Hf-ppHlrf-sM5MNb\" data-is-touch-wrapper=\"true\"><button aria-label=\"Learn more about legal disclosure regarding public reviews on Google Maps\" class=\"VfPpkd-LgbsSe VfPpkd-LgbsSe-OWXEXe-INsAgc VfPpkd-LgbsSe-OWXEXe-icon-M1Soyc VfPpkd-LgbsSe-OWXEXe-dgl2Hf Rj2Mlf OLiIxf PDpWxe LQeN7 s73B3c MyHLpd wphPJc Q8G3mf\" data-idom-class=\"Rj2Mlf OLiIxf PDpWxe LQeN7 s73B3c MyHLpd wphPJc Q8G3mf\" data-tooltip-enabled=\"true\" data-tooltip-id=\"ucc-0\" data-tooltip-is-persistent=\"true\" data-tooltip-is-rich=\"true\" data-tooltip-with-caret=\"true\" data-tooltip-with-caret-position=\"11\" jsaction=\"click:cOuCgd; mousedown:UX7yZ; mouseup:lbsD7e; mouseenter:tfO1Yc; mouseleave:JywGue; touchstart:p6p2H; touchmove:FwuNnf; touchend:yfqBxc; touchcancel:JMtRjd; focus:AHmuwe; blur:O22p3e; contextmenu:mg9Pef;mlnRJb:fLiPzd\" jscontroller=\"soHxf\"><div class=\"VfPpkd-Jh9lGc\"></div><div class=\"VfPpkd-J1Ukfc-LhBDec\"></div><div class=\"VfPpkd-RLmnJb\"></div><span aria-hidden=\"true\" class=\"VfPpkd-kBDsod\"><img alt=\"\" class=\"qy5xwd\" src=\"https://www.gstatic.com/images/icons/material/system_gm/2x/info_gm_grey_18dp.png\"/></span><span class=\"VfPpkd-vQzf8d\" jsname=\"V67aGc\"></span></button></div><div class=\"VfPpkd-suEOdc VfPpkd-suEOdc-OWXEXe-nzrxxc ziykHb TA5ace d1Bfob undefined\" data-mdc-tooltip-has-caret=\"true\" data-mdc-tooltip-persistent=\"true\" data-title-id-disregard=\"ucc-1\" id=\"ucc-0\" jsaction=\"BfpAHf:TCTP9d;Nwyqre:DsZxZc; transitionend:e204de\" jscontroller=\"HmEm0\" jsshadow=\"\" role=\"status\" tabindex=\"-1\"><div class=\"VfPpkd-z59Tgd-OiiCO\"><div aria-hidden=\"true\" class=\"VfPpkd-z59Tgd\" jsname=\"ebgt1d\"><span aria-hidden=\"true\" class=\"VfPpkd-BFbNVe-bF1uUb NZp2ef\"></span><div class=\"VfPpkd-IqDDtd\" jsslot=\"\"><div class=\"mF2nKf\"><div class=\"hWnRWc\">About these results</div><br/><div class=\"EFUAFd\">When you search for businesses or places near a location, Google Maps will show you local results. Several factors - primarily relevance, distance, and prominence - are combined to help find the best results for your search.</div><div class=\"EFUAFd\"><a href=\"https://support.google.com/maps/answer/3092445?entry=ttu&amp;utm_source=maps&amp;authuser=0&amp;hl=en\">Learn more</a></div></div></div></div><div class=\"VfPpkd-Djsh7e-XxIAqe-ma6Yeb\"><span aria-hidden=\"true\" class=\"VfPpkd-BFbNVe-bF1uUb NZp2ef\"></span></div><div class=\"VfPpkd-Djsh7e-XxIAqe-bottom\"><span aria-hidden=\"true\" class=\"VfPpkd-BFbNVe-bF1uUb NZp2ef\"></span></div></div></div></span></div></div></div></div><div class=\"wuvLZe fontBodyMedium\"></div></div><div class=\"MFHMle\"><div class=\"kiXRrd\"><div class=\"KNfEk siaXSd\"><button aria-haspopup=\"menu\" aria-label=\"Sort by\" class=\"e2moi p0H5lf\" jsaction=\"pane.wfvdle29\" jslog=\"45049; track:click;\"><div class=\"tXNTee L6Bbsd VbYL9 dhCbg\"><div class=\"OyjIsf\"></div><span class=\"uEubGf fontBodyMedium\">Sort by</span><span aria-hidden=\"true\" class=\"drGLxe google-symbols\" style=\"font-size: 24px;\"></span></div></button></div></div></div></div><div><div class=\"Nv2PK tH5CWc THOPZb\" jsaction=\"mouseover:pane.wfvdle30;mouseout:pane.wfvdle30\"><a aria-label=\"Tim Hortons\" class=\"hfpxzc\" href=\"https://www.google.com/maps/place/Tim+Hortons/data=!4m7!3m6!1s0x89d51b00e46a7933:0x1dd85b9e65c4d995!8m2!3d43.9643752!4d-78.9039943!16s%2Fg%2F11pph8rhz9!19sChIJM3lq5AAb1YkRldnEZZ5b2B0?authuser=0&amp;hl=en&amp;rclk=1\" jsaction=\"pane.wfvdle30;focus:pane.wfvdle30;blur:pane.wfvdle30;auxclick:pane.wfvdle30;keydown:pane.wfvdle30;clickmod:pane.wfvdle30\" jslog=\"12690;track:click,contextmenu;mutable:true;metadata:WyIwYWhVS0V3aXhuUDNJdWVHSEF4VTFrNGtFSFFLSUdGVVE4QmNJQlNnQSIsbnVsbCwxXQ==\"></a><div class=\"rWbY0d\"></div><div class=\"bfdHYd Ppzolf OFBs3e\"><div class=\"rgFiGf OyjIsf\"></div><div class=\"hHbUWd\"></div><div class=\"rSy5If\"></div><div class=\"lI9IFe\"><div class=\"y7PRA\"><div class=\"Lui3Od T7Wufd\"><div class=\"Z8fK3b\"><div class=\"OyjIsf\"></div><div class=\"UaQhfb fontBodyMedium\"><div class=\"NrDZNb\"><div class=\"dIDW9d\"></div><span class=\"HTCGSb\"></span><div class=\"qBF1Pd fontHeadlineSmall\">Tim Hortons</div> <span class=\"muMOJe\"></span></div><div class=\"HAthLd\"></div><div class=\"W4Efsd\"><div class=\"AJB7ye\"><span class=\"wZrhX\"></span> <span class=\"e4rVHe fontBodyMedium\"><span aria-label=\"3.4 stars 534 Reviews\" class=\"ZkP5Je\" role=\"img\"><span aria-hidden=\"true\" class=\"MW4etd\">3.4</span><div class=\"QBUL8c\"></div><div class=\"QBUL8c\"></div><div class=\"QBUL8c\"></div><div class=\"QBUL8c vIBWLc\"></div><div class=\"QBUL8c B53l4e\"></div><span aria-hidden=\"true\" class=\"UY7F9\">(534)</span></span></span><span> <span aria-hidden=\"true\">·</span> <span aria-label=\"Price: Inexpensive\" role=\"img\">$</span></span></div></div><div class=\"W4Efsd\"><div class=\"W4Efsd\"><span><span>Coffee shop</span></span><span> <span aria-hidden=\"true\">·</span> <span aria-label=\"Wheelchair accessible entrance\" class=\"google-symbols\" data-tooltip=\"Wheelchair accessible entrance\" jsaction=\"focus:pane.focusTooltip; blur:pane.blurTooltip\" role=\"img\" style=\"font-size: 15px;\"><span class=\"doJOZc\"></span></span></span><span> <span aria-hidden=\"true\">·</span> <span>2700 Simcoe St N</span></span></div><div class=\"W4Efsd\"><span><span>Coffee chain serving snacks &amp; light fare</span></span></div><div class=\"W4Efsd\"><span><span><span style=\"font-weight: 400; color: rgba(24,128,56,1.00);\">Open</span><span style=\"font-weight: 400;\"> ⋅ Closes 11 p.m.</span></span></span><span> <span aria-hidden=\"true\">·</span> <span class=\"UsdlK\">(905) 436-8080</span></span></div></div></div></div></div></div><div class=\"Rwjeuc\"><div class=\"etWJQ jym1ob kdfrQc bWQG4d NUqjXc\"><a aria-label=\"Visit Tim Hortons's website\" class=\"lcr4fd S9kvJb\" data-value=\"Website\" href=\"https://locations.timhortons.ca/on/oshawa-on/2700-simcoe-st-n\" jsaction=\"pane.wfvdle34;keydown:pane.wfvdle34;mouseover:pane.wfvdle34;mouseout:pane.wfvdle34\" jslog=\"84919;track:click;mutable:true;metadata:WyIwYWhVS0V3aXhuUDNJdWVHSEF4VTFrNGtFSFFLSUdGVVE4QmNJQlNnQSIsIixBT3ZWYXcwblQ4dXlCYktiV3RIWHdHNkg0UmJrLCwwYWhVS0V3aXhuUDNJdWVHSEF4VTFrNGtFSFFLSUdGVVE2MWdJRlNnTiwiXQ==\"><span class=\"DVeyrd\"><div class=\"OyjIsf zemfqc\"></div><span aria-hidden=\"true\" class=\"Cw1rxd google-symbols PHazN\" style=\"font-size: 18px;\"></span></span><div class=\"R8c4Qb fontBodySmall\">Website</div></a></div><div class=\"etWJQ jym1ob kdfrQc bWQG4d NUqjXc\"><button aria-label=\"Get directions to Tim Hortons\" class=\"g88MCb S9kvJb\" data-value=\"Directions\" jsaction=\"pane.wfvdle35;keydown:pane.wfvdle35;mouseover:pane.wfvdle35;mouseout:pane.wfvdle35\" jslog=\"80860;track:click;mutable:true;metadata:WyIwYWhVS0V3aXhuUDNJdWVHSEF4VTFrNGtFSFFLSUdGVVE4QmNJQlNnQSJd\"><span class=\"DVeyrd\"><div class=\"OyjIsf zemfqc\"></div><span aria-hidden=\"true\" class=\"Cw1rxd google-symbols G47vBd PHazN\" style=\"font-size: 18px;\"></span></span><div class=\"R8c4Qb fontBodySmall\">Directions</div></button></div></div><div class=\"SpFAAb\"></div></div><div class=\"qty3Ue\"><div aria-hidden=\"true\" class=\"AyRUI\" style=\"height: 8px;\">  </div><div class=\"n8sPKe ccePVe\"><div class=\"Ahnjwc fontBodyMedium\"><div class=\"W6VQef\"><div class=\"ah5Ghc\"><span aria-label=\"Dine-in\" role=\"text\" style=\"font-weight: 400;\">Dine-in</span></div><span aria-hidden=\"true\" class=\"M4A5Cf\">·</span></div><div class=\"W6VQef\"><div class=\"ah5Ghc\"><span aria-label=\"Drive-through\" role=\"text\" style=\"font-weight: 400;\">Drive-through</span></div><span aria-hidden=\"true\" class=\"M4A5Cf\">·</span></div><div class=\"W6VQef\"><div class=\"ah5Ghc\"><span aria-label=\"No delivery\" role=\"text\" style=\"font-weight: 400;\">No delivery</span></div></div><div class=\"Q4BGF\"></div></div></div><div aria-hidden=\"true\" class=\"AyRUI\" style=\"height: 4px;\">  </div><div class=\"m6QErb XiKgde UhIuC\" style=\"\"><div class=\"m6QErb XiKgde tLjsW\" style=\"\"><div class=\"KDpVjd\"><a class=\"A1zNzb\" href=\"https://www.google.com/viewer/chooseprovider?mid=/g/11pph8rhz9&amp;g2lbs=AOHF13l_7NASGmbnqrVBQTp6DizWV7LoOTnNvg5vr8sPmILkMRVNMB7VVq3dRbkdGjQ_6Oc_8ehg1pp52okwwFLBNXmdc3YEeGUdq5mG6zm0humI11NUSaM%3D&amp;hl=en-CA&amp;gl=ca&amp;fo_m=MfohQo559jFvMUOzJVpjPL1YMfZ3bInYwBDuMfaXTPp5KXh-&amp;utm_source=tactile&amp;gei=VqiyZrGZFLWmptQPgpDiqAU&amp;ei=VqiyZrGZFLWmptQPgpDiqAU&amp;fo_s=OA,SOE&amp;opi=79508299&amp;ebb=1&amp;cs=0&amp;foub=mcpp\" jsaction=\"click:pane.wfvdle33; keydown:pane.wfvdle33\" jslog=\"117931; track:click;metadata:WyIwYWhVS0V3aXhuUDNJdWVHSEF4VTFrNGtFSFFLSUdGVVFyY2NDQ0Nvb0FBIl0=\" target=\"_self\"><div class=\"J8zHNe qejHf\"><div class=\"OyjIsf zemfqc\"></div>Order online</div></a></div></div></div></div><div class=\"gwQ6lc\" jsaction=\"click:mLt3mc\"></div></div></div></div><div class=\"TFQHme\"></div><div><div class=\"Nv2PK tH5CWc THOPZb\" jsaction=\"mouseover:pane.wfvdle36;mouseout:pane.wfvdle36\"><a aria-label=\"Tim Hortons\" class=\"hfpxzc\" href=\"https://www.google.com/maps/place/Tim+Hortons/data=!4m7!3m6!1s0x89d51b9a79baf475:0x7c37ae28b6f7a07e!8m2!3d43.943694!4d-78.897032!16s%2Fg%2F1wd3x0r3!19sChIJdfS6eZob1YkRfqD3tiiuN3w?authuser=0&amp;hl=en&amp;rclk=1\" jsaction=\"pane.wfvdle36;focus:pane.wfvdle36;blur:pane.wfvdle36;auxclick:pane.wfvdle36;keydown:pane.wfvdle36;clickmod:pane.wfvdle36\" jslog=\"12690;track:click,contextmenu;mutable:true;metadata:WyIwYWhVS0V3aXhuUDNJdWVHSEF4VTFrNGtFSFFLSUdGVVE4QmNJTGlnQSIsbnVsbCwyXQ==\"></a><div class=\"rWbY0d\"></div><div class=\"bfdHYd Ppzolf OFBs3e\"><div class=\"rgFiGf OyjIsf\"></div><div class=\"hHbUWd\"></div><div class=\"rSy5If\"></div><div class=\"lI9IFe\"><div class=\"y7PRA\"><div class=\"Lui3Od T7Wufd\"><div class=\"Z8fK3b\"><div class=\"OyjIsf\"></div><div class=\"UaQhfb fontBodyMedium\"><div class=\"NrDZNb\"><div class=\"dIDW9d\"></div><span class=\"HTCGSb\"></span><div class=\"qBF1Pd fontHeadlineSmall\">Tim Hortons</div> <span class=\"muMOJe\"></span></div><div class=\"HAthLd\"></div><div class=\"W4Efsd\"><div class=\"AJB7ye\"><span class=\"wZrhX\"></span> <span class=\"e4rVHe fontBodyMedium\"><span aria-label=\"3.8 stars 211 Reviews\" class=\"ZkP5Je\" role=\"img\"><span aria-hidden=\"true\" class=\"MW4etd\">3.8</span><div class=\"QBUL8c\"></div><div class=\"QBUL8c\"></div><div class=\"QBUL8c\"></div><div class=\"QBUL8c\"></div><div class=\"QBUL8c B53l4e\"></div><span aria-hidden=\"true\" class=\"UY7F9\">(211)</span></span></span><span> <span aria-hidden=\"true\">·</span> <span aria-label=\"Price: Inexpensive\" role=\"img\">$</span></span></div></div><div class=\"W4Efsd\"><div class=\"W4Efsd\"><span><span>Coffee shop</span></span><span> <span aria-hidden=\"true\">·</span> <span aria-label=\"Wheelchair accessible entrance\" class=\"google-symbols\" data-tooltip=\"Wheelchair accessible entrance\" jsaction=\"focus:pane.focusTooltip; blur:pane.blurTooltip\" role=\"img\" style=\"font-size: 15px;\"><span class=\"doJOZc\"></span></span></span><span> <span aria-hidden=\"true\">·</span> <span>Durham College, Gordon Willey Building, Upper Level</span></span></div><div class=\"W4Efsd\"><span><span>Coffee chain serving snacks &amp; light fare</span></span></div><div class=\"W4Efsd\"><span><span><span style=\"font-weight: 400; color: rgba(217,48,37,1.00);\">Closed</span><span style=\"font-weight: 400;\"> ⋅ Opens 9 a.m. Wed</span></span></span><span> <span aria-hidden=\"true\">·</span> <span class=\"UsdlK\">(905) 721-3111</span></span></div></div></div></div></div></div><div class=\"Rwjeuc\"><div class=\"etWJQ jym1ob kdfrQc bWQG4d NUqjXc\"><a aria-label=\"Visit Tim Hortons's website\" class=\"lcr4fd S9kvJb\" data-value=\"Website\" href=\"http://locations.timhortons.ca/on/oshawa/2000-simcoe-st.-north\" jsaction=\"pane.wfvdle39;keydown:pane.wfvdle39;mouseover:pane.wfvdle39;mouseout:pane.wfvdle39\" jslog=\"84919;track:click;mutable:true;metadata:WyIwYWhVS0V3aXhuUDNJdWVHSEF4VTFrNGtFSFFLSUdGVVE4QmNJTGlnQSIsIixBT3ZWYXcwUWpOZkY4akMtU2p4ZHdHZ1F4dUlqLCwwYWhVS0V3aXhuUDNJdWVHSEF4VTFrNGtFSFFLSUdGVVE2MWdJUWlnUiwiXQ==\"><span class=\"DVeyrd\"><div class=\"OyjIsf zemfqc\"></div><span aria-hidden=\"true\" class=\"Cw1rxd google-symbols PHazN\" style=\"font-size: 18px;\"></span></span><div class=\"R8c4Qb fontBodySmall\">Website</div></a></div><div class=\"etWJQ jym1ob kdfrQc bWQG4d NUqjXc\"><button aria-label=\"Get directions to Tim Hortons\" class=\"g88MCb S9kvJb\" data-value=\"Directions\" jsaction=\"pane.wfvdle40;keydown:pane.wfvdle40;mouseover:pane.wfvdle40;mouseout:pane.wfvdle40\" jslog=\"80860;track:click;mutable:true;metadata:WyIwYWhVS0V3aXhuUDNJdWVHSEF4VTFrNGtFSFFLSUdGVVE4QmNJTGlnQSJd\"><span class=\"DVeyrd\"><div class=\"OyjIsf zemfqc\"></div><span aria-hidden=\"true\" class=\"Cw1rxd google-symbols G47vBd PHazN\" style=\"font-size: 18px;\"></span></span><div class=\"R8c4Qb fontBodySmall\">Directions</div></button></div></div><div class=\"SpFAAb\"></div></div><div class=\"qty3Ue\"><div aria-hidden=\"true\" class=\"AyRUI\" style=\"height: 8px;\">  </div><div class=\"n8sPKe ccePVe\"><div class=\"Ahnjwc fontBodyMedium\"><div class=\"W6VQef\"><div class=\"ah5Ghc\"><span aria-label=\"Dine-in\" role=\"text\" style=\"font-weight: 400;\">Dine-in</span></div><span aria-hidden=\"true\" class=\"M4A5Cf\">·</span></div><div class=\"W6VQef\"><div class=\"ah5Ghc\"><span aria-label=\"Drive-through\" role=\"text\" style=\"font-weight: 400;\">Drive-through</span></div><span aria-hidden=\"true\" class=\"M4A5Cf\">·</span></div><div class=\"W6VQef\"><div class=\"ah5Ghc\"><span aria-label=\"No delivery\" role=\"text\" style=\"font-weight: 400;\">No delivery</span></div></div><div class=\"Q4BGF\"></div></div></div></div><div class=\"gwQ6lc\" jsaction=\"click:mLt3mc\"></div></div></div></div><div class=\"TFQHme\"></div><div><div class=\"Nv2PK tH5CWc THOPZb\" jsaction=\"mouseover:pane.wfvdle41;mouseout:pane.wfvdle41\"><a aria-label=\"Tim Hortons\" class=\"hfpxzc\" href=\"https://www.google.com/maps/place/Tim+Hortons/data=!4m7!3m6!1s0x89d51c821ff9a0bf:0xfdae22bd41b4094c!8m2!3d43.9306684!4d-78.8771756!16s%2Fg%2F1td1kzwb!19sChIJv6D5H4Ic1YkRTAm0Qb0irv0?authuser=0&amp;hl=en&amp;rclk=1\" jsaction=\"pane.wfvdle41;focus:pane.wfvdle41;blur:pane.wfvdle41;auxclick:pane.wfvdle41;keydown:pane.wfvdle41;clickmod:pane.wfvdle41\" jslog=\"12690;track:click,contextmenu;mutable:true;metadata:WyIwYWhVS0V3aXhuUDNJdWVHSEF4VTFrNGtFSFFLSUdGVVE4QmNJV2lnQSIsbnVsbCwzXQ==\"></a><div class=\"rWbY0d\"></div><div class=\"bfdHYd Ppzolf OFBs3e\"><div class=\"rgFiGf OyjIsf\"></div><div class=\"hHbUWd\"></div><div class=\"rSy5If\"></div><div class=\"lI9IFe\"><div class=\"y7PRA\"><div class=\"Lui3Od T7Wufd\"><div class=\"Z8fK3b\"><div class=\"OyjIsf\"></div><div class=\"UaQhfb fontBodyMedium\"><div class=\"NrDZNb\"><div class=\"dIDW9d\"></div><span class=\"HTCGSb\"></span><div class=\"qBF1Pd fontHeadlineSmall\">Tim Hortons</div> <span class=\"muMOJe\"></span></div><div class=\"HAthLd\"></div><div class=\"W4Efsd\"><div class=\"AJB7ye\"><span class=\"wZrhX\"></span> <span class=\"e4rVHe fontBodyMedium\"><span aria-label=\"3.6 stars 1,609 Reviews\" class=\"ZkP5Je\" role=\"img\"><span aria-hidden=\"true\" class=\"MW4etd\">3.6</span><div class=\"QBUL8c\"></div><div class=\"QBUL8c\"></div><div class=\"QBUL8c\"></div><div class=\"QBUL8c vIBWLc\"></div><div class=\"QBUL8c B53l4e\"></div><span aria-hidden=\"true\" class=\"UY7F9\">(1,609)</span></span></span><span> <span aria-hidden=\"true\">·</span> <span aria-label=\"Price: Inexpensive\" role=\"img\">$</span></span></div></div><div class=\"W4Efsd\"><div class=\"W4Efsd\"><span><span>Coffee shop</span></span><span> <span aria-hidden=\"true\">·</span> <span aria-label=\"Wheelchair accessible entrance\" class=\"google-symbols\" data-tooltip=\"Wheelchair accessible entrance\" jsaction=\"focus:pane.focusTooltip; blur:pane.blurTooltip\" role=\"img\" style=\"font-size: 15px;\"><span class=\"doJOZc\"></span></span></span><span> <span aria-hidden=\"true\">·</span> <span>1251 Simcoe St N</span></span></div><div class=\"W4Efsd\"><span><span>Coffee chain serving snacks &amp; light fare</span></span></div><div class=\"W4Efsd\"><span><span><span style=\"font-weight: 400; color: rgba(24,128,56,1.00);\">Open 24 hours</span></span></span><span> <span aria-hidden=\"true\">·</span> <span class=\"UsdlK\">(905) 728-4404</span></span></div></div></div></div></div></div><div class=\"Rwjeuc\"><div class=\"etWJQ jym1ob kdfrQc bWQG4d NUqjXc\"><a aria-label=\"Visit Tim Hortons's website\" class=\"lcr4fd S9kvJb\" data-value=\"Website\" href=\"http://locations.timhortons.ca/on/oshawa/1251-simcoe-st-north\" jsaction=\"pane.wfvdle44;keydown:pane.wfvdle44;mouseover:pane.wfvdle44;mouseout:pane.wfvdle44\" jslog=\"84919;track:click;mutable:true;metadata:WyIwYWhVS0V3aXhuUDNJdWVHSEF4VTFrNGtFSFFLSUdGVVE4QmNJV2lnQSIsIixBT3ZWYXcwcmsybEZ1aHdUdmc4NDI4QmxxTUpBLCwwYWhVS0V3aXhuUDNJdWVHSEF4VTFrNGtFSFFLSUdGVVE2MWdJYWlnTiwiXQ==\"><span class=\"DVeyrd\"><div class=\"OyjIsf zemfqc\"></div><span aria-hidden=\"true\" class=\"Cw1rxd google-symbols PHazN\" style=\"font-size: 18px;\"></span></span><div class=\"R8c4Qb fontBodySmall\">Website</div></a></div><div class=\"etWJQ jym1ob kdfrQc bWQG4d NUqjXc\"><button aria-label=\"Get directions to Tim Hortons\" class=\"g88MCb S9kvJb\" data-value=\"Directions\" jsaction=\"pane.wfvdle45;keydown:pane.wfvdle45;mouseover:pane.wfvdle45;mouseout:pane.wfvdle45\" jslog=\"80860;track:click;mutable:true;metadata:WyIwYWhVS0V3aXhuUDNJdWVHSEF4VTFrNGtFSFFLSUdGVVE4QmNJV2lnQSJd\"><span class=\"DVeyrd\"><div class=\"OyjIsf zemfqc\"></div><span aria-hidden=\"true\" class=\"Cw1rxd google-symbols G47vBd PHazN\" style=\"font-size: 18px;\"></span></span><div class=\"R8c4Qb fontBodySmall\">Directions</div></button></div></div><div class=\"SpFAAb\"></div></div><div class=\"qty3Ue\"><div aria-hidden=\"true\" class=\"AyRUI\" style=\"height: 8px;\">  </div><div class=\"n8sPKe ccePVe\"><div class=\"Ahnjwc fontBodyMedium\"><div class=\"W6VQef\"><div class=\"ah5Ghc\"><span aria-label=\"Dine-in\" role=\"text\" style=\"font-weight: 400;\">Dine-in</span></div><span aria-hidden=\"true\" class=\"M4A5Cf\">·</span></div><div class=\"W6VQef\"><div class=\"ah5Ghc\"><span aria-label=\"Drive-through\" role=\"text\" style=\"font-weight: 400;\">Drive-through</span></div><span aria-hidden=\"true\" class=\"M4A5Cf\">·</span></div><div class=\"W6VQef\"><div class=\"ah5Ghc\"><span aria-label=\"No delivery\" role=\"text\" style=\"font-weight: 400;\">No delivery</span></div></div><div class=\"Q4BGF\"></div></div></div></div><div class=\"gwQ6lc\" jsaction=\"click:mLt3mc\"></div></div></div></div><div class=\"TFQHme\"></div><div><div class=\"Nv2PK tH5CWc THOPZb\" jsaction=\"mouseover:pane.wfvdle46;mouseout:pane.wfvdle46\"><a aria-label=\"Tim Hortons\" class=\"hfpxzc\" href=\"https://www.google.com/maps/place/Tim+Hortons/data=!4m7!3m6!1s0x89d519683327a5a3:0x4f85cdf945fdb932!8m2!3d43.957804!4d-78.9430617!16s%2Fg%2F11bxjcmftm!19sChIJo6UnM2gZ1YkRMrn9RfnNhU8?authuser=0&amp;hl=en&amp;rclk=1\" jsaction=\"pane.wfvdle46;focus:pane.wfvdle46;blur:pane.wfvdle46;auxclick:pane.wfvdle46;keydown:pane.wfvdle46;clickmod:pane.wfvdle46\" jslog=\"12690;track:click,contextmenu;mutable:true;metadata:WyIwYWhVS0V3aXhuUDNJdWVHSEF4VTFrNGtFSFFLSUdGVVE4QmNJZ1FFb0FBIixudWxsLDRd\"></a><div class=\"rWbY0d\"></div><div class=\"bfdHYd Ppzolf OFBs3e\"><div class=\"rgFiGf OyjIsf\"></div><div class=\"hHbUWd\"></div><div class=\"rSy5If\"></div><div class=\"lI9IFe\"><div class=\"y7PRA\"><div class=\"Lui3Od T7Wufd\"><div class=\"Z8fK3b\"><div class=\"OyjIsf\"></div><div class=\"UaQhfb fontBodyMedium\"><div class=\"NrDZNb\"><div class=\"dIDW9d\"></div><span class=\"HTCGSb\"></span><div class=\"qBF1Pd fontHeadlineSmall\">Tim Hortons</div> <span class=\"muMOJe\"></span></div><div class=\"HAthLd\"></div><div class=\"W4Efsd\"><div class=\"AJB7ye\"><span class=\"wZrhX\"></span> <span class=\"e4rVHe fontBodyMedium\"><span aria-label=\"3.5 stars 225 Reviews\" class=\"ZkP5Je\" role=\"img\"><span aria-hidden=\"true\" class=\"MW4etd\">3.5</span><div class=\"QBUL8c\"></div><div class=\"QBUL8c\"></div><div class=\"QBUL8c\"></div><div class=\"QBUL8c vIBWLc\"></div><div class=\"QBUL8c B53l4e\"></div><span aria-hidden=\"true\" class=\"UY7F9\">(225)</span></span></span><span> <span aria-hidden=\"true\">·</span> <span aria-label=\"Price: Inexpensive\" role=\"img\">$</span></span></div></div><div class=\"W4Efsd\"><div class=\"W4Efsd\"><span><span>Coffee shop</span></span><span> <span aria-hidden=\"true\">·</span> <span aria-label=\"Wheelchair accessible entrance\" class=\"google-symbols\" data-tooltip=\"Wheelchair accessible entrance\" jsaction=\"focus:pane.focusTooltip; blur:pane.blurTooltip\" role=\"img\" style=\"font-size: 15px;\"><span class=\"doJOZc\"></span></span></span><span> <span aria-hidden=\"true\">·</span> <span>520 Winchester Rd E</span></span></div><div class=\"W4Efsd\"><span><span>Coffee chain serving snacks &amp; light fare</span></span></div><div class=\"W4Efsd\"><span><span><span style=\"font-weight: 400; color: rgba(24,128,56,1.00);\">Open</span><span style=\"font-weight: 400;\"> ⋅ Closes 9 p.m.</span></span></span><span> <span aria-hidden=\"true\">·</span> <span class=\"UsdlK\">(905) 655-1810</span></span></div></div></div></div></div></div><div class=\"Rwjeuc\"><div class=\"etWJQ jym1ob kdfrQc bWQG4d NUqjXc\"><a aria-label=\"Visit Tim Hortons's website\" class=\"lcr4fd S9kvJb\" data-value=\"Website\" href=\"https://locations.timhortons.ca/en/on/whitby/520-winchester-dr-e/\" jsaction=\"pane.wfvdle49;keydown:pane.wfvdle49;mouseover:pane.wfvdle49;mouseout:pane.wfvdle49\" jslog=\"84919;track:click;mutable:true;metadata:WyIwYWhVS0V3aXhuUDNJdWVHSEF4VTFrNGtFSFFLSUdGVVE4QmNJZ1FFb0FBIiwiLEFPdlZhdzNLRnd3VzVMZGRydkZUMU9KX19WQjQsLDBhaFVLRXdpeG5QM0l1ZUdIQXhVMWs0a0VIUUtJR0ZVUTYxZ0lrUUVvRFEsIl0=\"><span class=\"DVeyrd\"><div class=\"OyjIsf zemfqc\"></div><span aria-hidden=\"true\" class=\"Cw1rxd google-symbols PHazN\" style=\"font-size: 18px;\"></span></span><div class=\"R8c4Qb fontBodySmall\">Website</div></a></div><div class=\"etWJQ jym1ob kdfrQc bWQG4d NUqjXc\"><button aria-label=\"Get directions to Tim Hortons\" class=\"g88MCb S9kvJb\" data-value=\"Directions\" jsaction=\"pane.wfvdle50;keydown:pane.wfvdle50;mouseover:pane.wfvdle50;mouseout:pane.wfvdle50\" jslog=\"80860;track:click;mutable:true;metadata:WyIwYWhVS0V3aXhuUDNJdWVHSEF4VTFrNGtFSFFLSUdGVVE4QmNJZ1FFb0FBIl0=\"><span class=\"DVeyrd\"><div class=\"OyjIsf zemfqc\"></div><span aria-hidden=\"true\" class=\"Cw1rxd google-symbols G47vBd PHazN\" style=\"font-size: 18px;\"></span></span><div class=\"R8c4Qb fontBodySmall\">Directions</div></button></div></div><div class=\"SpFAAb\"></div></div><div class=\"qty3Ue\"><div aria-hidden=\"true\" class=\"AyRUI\" style=\"height: 8px;\">  </div><div class=\"n8sPKe ccePVe\"><div class=\"Ahnjwc fontBodyMedium\"><div class=\"W6VQef\"><div class=\"ah5Ghc\"><span aria-label=\"Drive-through\" role=\"text\" style=\"font-weight: 400;\">Drive-through</span></div><span aria-hidden=\"true\" class=\"M4A5Cf\">·</span></div><div class=\"W6VQef\"><div class=\"ah5Ghc\"><span aria-label=\"No dine-in\" role=\"text\" style=\"font-weight: 400;\">No dine-in</span></div><span aria-hidden=\"true\" class=\"M4A5Cf\">·</span></div><div class=\"W6VQef\"><div class=\"ah5Ghc\"><span aria-label=\"No delivery\" role=\"text\" style=\"font-weight: 400;\">No delivery</span></div></div><div class=\"Q4BGF\"></div></div></div></div><div class=\"gwQ6lc\" jsaction=\"click:mLt3mc\"></div></div></div></div><div class=\"TFQHme\"></div><div><div class=\"Nv2PK tH5CWc THOPZb\" jsaction=\"mouseover:pane.wfvdle51;mouseout:pane.wfvdle51\"><a aria-label=\"Tim Hortons\" class=\"hfpxzc\" href=\"https://www.google.com/maps/place/Tim+Hortons/data=!4m7!3m6!1s0x89d51942771fd3ff:0xa92f958f31f71cd6!8m2!3d43.9569063!4d-78.9438714!16s%2Fg%2F1v3dt36b!19sChIJ_9Mfd0IZ1YkR1hz3MY-VL6k?authuser=0&amp;hl=en&amp;rclk=1\" jsaction=\"pane.wfvdle51;focus:pane.wfvdle51;blur:pane.wfvdle51;auxclick:pane.wfvdle51;keydown:pane.wfvdle51;clickmod:pane.wfvdle51\" jslog=\"12690;track:click,contextmenu;mutable:true;metadata:WyIwYWhVS0V3aXhuUDNJdWVHSEF4VTFrNGtFSFFLSUdGVVE4QmNJcUFFb0FBIixudWxsLDVd\"></a><div class=\"rWbY0d\"></div><div class=\"bfdHYd Ppzolf OFBs3e\"><div class=\"rgFiGf OyjIsf\"></div><div class=\"hHbUWd\"></div><div class=\"rSy5If\"></div><div class=\"lI9IFe\"><div class=\"y7PRA\"><div class=\"Lui3Od T7Wufd\"><div class=\"Z8fK3b\"><div class=\"OyjIsf\"></div><div class=\"UaQhfb fontBodyMedium\"><div class=\"NrDZNb\"><div class=\"dIDW9d\"></div><span class=\"HTCGSb\"></span><div class=\"qBF1Pd fontHeadlineSmall\">Tim Hortons</div> <span class=\"muMOJe\"></span></div><div class=\"HAthLd\"></div><div class=\"W4Efsd\"><div class=\"AJB7ye\"><span class=\"wZrhX\"></span> <span class=\"e4rVHe fontBodyMedium\"><span aria-label=\"3.6 stars 179 Reviews\" class=\"ZkP5Je\" role=\"img\"><span aria-hidden=\"true\" class=\"MW4etd\">3.6</span><div class=\"QBUL8c\"></div><div class=\"QBUL8c\"></div><div class=\"QBUL8c\"></div><div class=\"QBUL8c vIBWLc\"></div><div class=\"QBUL8c B53l4e\"></div><span aria-hidden=\"true\" class=\"UY7F9\">(179)</span></span></span><span> <span aria-hidden=\"true\">·</span> <span aria-label=\"Price: Inexpensive\" role=\"img\">$</span></span></div></div><div class=\"W4Efsd\"><div class=\"W4Efsd\"><span><span>Coffee shop</span></span><span> <span aria-hidden=\"true\">·</span> <span aria-label=\"Wheelchair accessible entrance\" class=\"google-symbols\" data-tooltip=\"Wheelchair accessible entrance\" jsaction=\"focus:pane.focusTooltip; blur:pane.blurTooltip\" role=\"img\" style=\"font-size: 15px;\"><span class=\"doJOZc\"></span></span></span><span> <span aria-hidden=\"true\">·</span> <span>485 Winchester Rd E</span></span></div><div class=\"W4Efsd\"><span><span>Coffee chain serving snacks &amp; light fare</span></span></div><div class=\"W4Efsd\"><span><span><span style=\"font-weight: 400; color: rgba(24,128,56,1.00);\">Open</span><span style=\"font-weight: 400;\"> ⋅ Closes 11 p.m.</span></span></span><span> <span aria-hidden=\"true\">·</span> <span class=\"UsdlK\">(905) 655-4159</span></span></div></div></div></div></div></div><div class=\"Rwjeuc\"><div class=\"etWJQ jym1ob kdfrQc bWQG4d NUqjXc\"><a aria-label=\"Visit Tim Hortons's website\" class=\"lcr4fd S9kvJb\" data-value=\"Website\" href=\"https://locations.timhortons.ca/en/on/whitby/485-winchester-rd-east/\" jsaction=\"pane.wfvdle54;keydown:pane.wfvdle54;mouseover:pane.wfvdle54;mouseout:pane.wfvdle54\" jslog=\"84919;track:click;mutable:true;metadata:WyIwYWhVS0V3aXhuUDNJdWVHSEF4VTFrNGtFSFFLSUdGVVE4QmNJcUFFb0FBIiwiLEFPdlZhdzEtdm5OWUR3OUxKWkpscTNuanhYa2IsLDBhaFVLRXdpeG5QM0l1ZUdIQXhVMWs0a0VIUUtJR0ZVUTYxZ0l1QUVvRFEsIl0=\"><span class=\"DVeyrd\"><div class=\"OyjIsf zemfqc\"></div><span aria-hidden=\"true\" class=\"Cw1rxd google-symbols PHazN\" style=\"font-size: 18px;\"></span></span><div class=\"R8c4Qb fontBodySmall\">Website</div></a></div><div class=\"etWJQ jym1ob kdfrQc bWQG4d NUqjXc\"><button aria-label=\"Get directions to Tim Hortons\" class=\"g88MCb S9kvJb\" data-value=\"Directions\" jsaction=\"pane.wfvdle55;keydown:pane.wfvdle55;mouseover:pane.wfvdle55;mouseout:pane.wfvdle55\" jslog=\"80860;track:click;mutable:true;metadata:WyIwYWhVS0V3aXhuUDNJdWVHSEF4VTFrNGtFSFFLSUdGVVE4QmNJcUFFb0FBIl0=\"><span class=\"DVeyrd\"><div class=\"OyjIsf zemfqc\"></div><span aria-hidden=\"true\" class=\"Cw1rxd google-symbols G47vBd PHazN\" style=\"font-size: 18px;\"></span></span><div class=\"R8c4Qb fontBodySmall\">Directions</div></button></div></div><div class=\"SpFAAb\"></div></div><div class=\"qty3Ue\"><div aria-hidden=\"true\" class=\"AyRUI\" style=\"height: 8px;\">  </div><div class=\"n8sPKe ccePVe\"><div class=\"Ahnjwc fontBodyMedium\"><div class=\"W6VQef\"><div class=\"ah5Ghc\"><span aria-label=\"Dine-in\" role=\"text\" style=\"font-weight: 400;\">Dine-in</span></div><span aria-hidden=\"true\" class=\"M4A5Cf\">·</span></div><div class=\"W6VQef\"><div class=\"ah5Ghc\"><span aria-label=\"Drive-through\" role=\"text\" style=\"font-weight: 400;\">Drive-through</span></div><span aria-hidden=\"true\" class=\"M4A5Cf\">·</span></div><div class=\"W6VQef\"><div class=\"ah5Ghc\"><span aria-label=\"No delivery\" role=\"text\" style=\"font-weight: 400;\">No delivery</span></div></div><div class=\"Q4BGF\"></div></div></div></div><div class=\"gwQ6lc\" jsaction=\"click:mLt3mc\"></div></div></div></div><div class=\"TFQHme\"></div><div><div class=\"Nv2PK tH5CWc THOPZb\" jsaction=\"mouseover:pane.wfvdle56;mouseout:pane.wfvdle56\"><a aria-label=\"Tim Hortons\" class=\"hfpxzc\" href=\"https://www.google.com/maps/place/Tim+Hortons/data=!4m7!3m6!1s0x89d51c1df119876f:0xb0953760d65e93f!8m2!3d43.9229586!4d-78.9275998!16s%2Fg%2F1tvyms6x!19sChIJb4cZ8R0c1YkRP-llDXZTCQs?authuser=0&amp;hl=en&amp;rclk=1\" jsaction=\"pane.wfvdle56;focus:pane.wfvdle56;blur:pane.wfvdle56;auxclick:pane.wfvdle56;keydown:pane.wfvdle56;clickmod:pane.wfvdle56\" jslog=\"12690;track:click,contextmenu;mutable:true;metadata:WyIwYWhVS0V3aXhuUDNJdWVHSEF4VTFrNGtFSFFLSUdGVVE4QmNJendFb0FBIixudWxsLDZd\"></a><div class=\"rWbY0d\"></div><div class=\"bfdHYd Ppzolf OFBs3e\"><div class=\"rgFiGf OyjIsf\"></div><div class=\"hHbUWd\"></div><div class=\"rSy5If\"></div><div class=\"lI9IFe\"><div class=\"y7PRA\"><div class=\"Lui3Od T7Wufd\"><div class=\"Z8fK3b\"><div class=\"OyjIsf\"></div><div class=\"UaQhfb fontBodyMedium\"><div class=\"NrDZNb\"><div class=\"dIDW9d\"></div><span class=\"HTCGSb\"></span><div class=\"qBF1Pd fontHeadlineSmall\">Tim Hortons</div> <span class=\"muMOJe\"></span></div><div class=\"HAthLd\"></div><div class=\"W4Efsd\"><div class=\"AJB7ye\"><span class=\"wZrhX\"></span> <span class=\"e4rVHe fontBodyMedium\"><span aria-label=\"3.7 stars 686 Reviews\" class=\"ZkP5Je\" role=\"img\"><span aria-hidden=\"true\" class=\"MW4etd\">3.7</span><div class=\"QBUL8c\"></div><div class=\"QBUL8c\"></div><div class=\"QBUL8c\"></div><div class=\"QBUL8c vIBWLc\"></div><div class=\"QBUL8c B53l4e\"></div><span aria-hidden=\"true\" class=\"UY7F9\">(686)</span></span></span><span> <span aria-hidden=\"true\">·</span> <span aria-label=\"Price: Inexpensive\" role=\"img\">$</span></span></div></div><div class=\"W4Efsd\"><div class=\"W4Efsd\"><span><span>Coffee shop</span></span><span> <span aria-hidden=\"true\">·</span> <span aria-label=\"Wheelchair accessible entrance\" class=\"google-symbols\" data-tooltip=\"Wheelchair accessible entrance\" jsaction=\"focus:pane.focusTooltip; blur:pane.blurTooltip\" role=\"img\" style=\"font-size: 15px;\"><span class=\"doJOZc\"></span></span></span><span> <span aria-hidden=\"true\">·</span> <span>4051 Thickson Rd N</span></span></div><div class=\"W4Efsd\"><span><span>Coffee chain serving snacks &amp; light fare</span></span></div><div class=\"W4Efsd\"><span><span><span style=\"font-weight: 400; color: rgba(24,128,56,1.00);\">Open 24 hours</span></span></span><span> <span aria-hidden=\"true\">·</span> <span class=\"UsdlK\">(905) 655-1487</span></span></div></div></div></div></div></div><div class=\"Rwjeuc\"><div class=\"etWJQ jym1ob kdfrQc bWQG4d NUqjXc\"><a aria-label=\"Visit Tim Hortons's website\" class=\"lcr4fd S9kvJb\" data-value=\"Website\" href=\"https://locations.timhortons.ca/en/on/whitby/4051-thickson-rd-n/\" jsaction=\"pane.wfvdle59;keydown:pane.wfvdle59;mouseover:pane.wfvdle59;mouseout:pane.wfvdle59\" jslog=\"84919;track:click;mutable:true;metadata:WyIwYWhVS0V3aXhuUDNJdWVHSEF4VTFrNGtFSFFLSUdGVVE4QmNJendFb0FBIiwiLEFPdlZhdzNYYTVSWnN4UDhzTG80QTAxdkR2TFEsLDBhaFVLRXdpeG5QM0l1ZUdIQXhVMWs0a0VIUUtJR0ZVUTYxZ0kzd0VvRFEsIl0=\"><span class=\"DVeyrd\"><div class=\"OyjIsf zemfqc\"></div><span aria-hidden=\"true\" class=\"Cw1rxd google-symbols PHazN\" style=\"font-size: 18px;\"></span></span><div class=\"R8c4Qb fontBodySmall\">Website</div></a></div><div class=\"etWJQ jym1ob kdfrQc bWQG4d NUqjXc\"><button aria-label=\"Get directions to Tim Hortons\" class=\"g88MCb S9kvJb\" data-value=\"Directions\" jsaction=\"pane.wfvdle60;keydown:pane.wfvdle60;mouseover:pane.wfvdle60;mouseout:pane.wfvdle60\" jslog=\"80860;track:click;mutable:true;metadata:WyIwYWhVS0V3aXhuUDNJdWVHSEF4VTFrNGtFSFFLSUdGVVE4QmNJendFb0FBIl0=\"><span class=\"DVeyrd\"><div class=\"OyjIsf zemfqc\"></div><span aria-hidden=\"true\" class=\"Cw1rxd google-symbols G47vBd PHazN\" style=\"font-size: 18px;\"></span></span><div class=\"R8c4Qb fontBodySmall\">Directions</div></button></div></div><div class=\"SpFAAb\"></div></div><div class=\"qty3Ue\"><div aria-hidden=\"true\" class=\"AyRUI\" style=\"height: 8px;\">  </div><div class=\"n8sPKe ccePVe\"><div class=\"Ahnjwc fontBodyMedium\"><div class=\"W6VQef\"><div class=\"ah5Ghc\"><span aria-label=\"Dine-in\" role=\"text\" style=\"font-weight: 400;\">Dine-in</span></div><span aria-hidden=\"true\" class=\"M4A5Cf\">·</span></div><div class=\"W6VQef\"><div class=\"ah5Ghc\"><span aria-label=\"Drive-through\" role=\"text\" style=\"font-weight: 400;\">Drive-through</span></div><span aria-hidden=\"true\" class=\"M4A5Cf\">·</span></div><div class=\"W6VQef\"><div class=\"ah5Ghc\"><span aria-label=\"No delivery\" role=\"text\" style=\"font-weight: 400;\">No delivery</span></div></div><div class=\"Q4BGF\"></div></div></div></div><div class=\"gwQ6lc\" jsaction=\"click:mLt3mc\"></div></div></div></div><div><div class=\"lXJj5c Hk4XGb\"><div class=\"qjESne veYFef\"></div></div></div></div>]\n"
     ]
    },
    {
     "name": "stdout",
     "output_type": "stream",
     "text": [
      "Services data has been saved to services_data.json\n"
     ]
    }
   ],
   "source": [
    "from splinter import Browser\n",
    "from bs4 import BeautifulSoup\n",
    "import time\n",
    "import json\n",
    "from selenium.webdriver.common.by import By\n",
    "from selenium.webdriver.common.keys import Keys\n",
    "from selenium.webdriver.support.ui import WebDriverWait\n",
    "from selenium.webdriver.support import expected_conditions as EC\n",
    "\n",
    "# Initialize the Chrome driver\n",
    "with Browser('chrome') as browser:\n",
    "    # Open Google Maps\n",
    "    browser.visit(\"https://www.google.com/maps\")\n",
    "    \n",
    "    # Wait for the page to load completely\n",
    "    time.sleep(5)\n",
    "    \n",
    "    # Locate the search input field using its ID\n",
    "    search_input = browser.find_by_id(\"searchboxinput\").first\n",
    "    \n",
    "    # Write some text into the search input field\n",
    "    search_input.fill(\"Tim Hortons New York City\")\n",
    "    search_input.type(Keys.ENTER)\n",
    "    \n",
    "    # Wait for the results to load\n",
    "    time.sleep(5)\n",
    "    \n",
    "    # Use WebDriverWait to wait until the element with aria-label containing \"Results for\" is present\n",
    "    WebDriverWait(browser.driver, 10).until(\n",
    "        EC.presence_of_element_located((By.XPATH, '//*[contains(@aria-label, \"Results for\")]'))\n",
    "    )\n",
    "    \n",
    "    # Extract the page source\n",
    "    html = browser.html\n",
    "    \n",
    "    # Parse the page source with BeautifulSoup\n",
    "    soup = BeautifulSoup(html, 'html.parser')\n",
    "    \n",
    "    # Initialize a list to hold the services data\n",
    "    services_data = []\n",
    "    \n",
    "    # Locate the search results container by aria-label containing \"Results for\"\n",
    "    results_containers = soup.find_all('div', attrs={'aria-label': lambda x: x and x.startswith('Results for')})\n",
    "    print(results_containers)\n",
    "    for results_container in results_containers:\n",
    "        results = results_container.find_all('div', class_='section-result')\n",
    "        \n",
    "        # Loop through the search results\n",
    "        for result in results:\n",
    "            service = {}\n",
    "            name = result.find('h3', class_='section-result-title')\n",
    "            if name:\n",
    "                service['name'] = name.text.strip()\n",
    "            \n",
    "            address = result.find('span', class_='section-result-location')\n",
    "            if address:\n",
    "                service['address'] = address.text.strip()\n",
    "            \n",
    "            rating = result.find('span', class_='cards-rating-score')\n",
    "            if rating:\n",
    "                service['rating'] = rating.text.strip()\n",
    "            \n",
    "            if service:\n",
    "                services_data.append(service)\n",
    "    \n",
    "    # Save the services data to a JSON file\n",
    "    with open('services_data.json', 'w') as f:\n",
    "        json.dump(services_data, f, indent=4)\n",
    "\n",
    "# Notify user that the script has finished\n",
    "print(\"Services data has been saved to services_data.json\")\n"
   ]
  },
  {
   "cell_type": "code",
   "execution_count": 29,
   "id": "b223eee0",
   "metadata": {},
   "outputs": [],
   "source": [
    "Result=results_containers[0].find_all(\"a\", class_=\"hfpxzc\")[0]"
   ]
  },
  {
   "cell_type": "code",
   "execution_count": 32,
   "id": "40ff2238",
   "metadata": {},
   "outputs": [
    {
     "data": {
      "text/plain": [
       "<a aria-label=\"Tim Hortons\" class=\"hfpxzc\" href=\"https://www.google.com/maps/place/Tim+Hortons/data=!4m7!3m6!1s0x89d51b00e46a7933:0x1dd85b9e65c4d995!8m2!3d43.9643752!4d-78.9039943!16s%2Fg%2F11pph8rhz9!19sChIJM3lq5AAb1YkRldnEZZ5b2B0?authuser=0&amp;hl=en&amp;rclk=1\" jsaction=\"pane.wfvdle30;focus:pane.wfvdle30;blur:pane.wfvdle30;auxclick:pane.wfvdle30;keydown:pane.wfvdle30;clickmod:pane.wfvdle30\" jslog=\"12690;track:click,contextmenu;mutable:true;metadata:WyIwYWhVS0V3aXhuUDNJdWVHSEF4VTFrNGtFSFFLSUdGVVE4QmNJQlNnQSIsbnVsbCwxXQ==\"></a>"
      ]
     },
     "execution_count": 32,
     "metadata": {},
     "output_type": "execute_result"
    }
   ],
   "source": [
    "Result"
   ]
  },
  {
   "cell_type": "code",
   "execution_count": null,
   "id": "787330ac",
   "metadata": {},
   "outputs": [],
   "source": []
  }
 ],
 "metadata": {
  "kernelspec": {
   "display_name": "Python 3 (ipykernel)",
   "language": "python",
   "name": "python3"
  },
  "language_info": {
   "codemirror_mode": {
    "name": "ipython",
    "version": 3
   },
   "file_extension": ".py",
   "mimetype": "text/x-python",
   "name": "python",
   "nbconvert_exporter": "python",
   "pygments_lexer": "ipython3",
   "version": "3.11.5"
  }
 },
 "nbformat": 4,
 "nbformat_minor": 5
}
